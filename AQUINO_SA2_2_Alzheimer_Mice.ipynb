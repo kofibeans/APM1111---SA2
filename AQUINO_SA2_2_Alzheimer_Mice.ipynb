{
  "nbformat": 4,
  "nbformat_minor": 0,
  "metadata": {
    "colab": {
      "provenance": [],
      "authorship_tag": "ABX9TyPVUfkYURtAAjfhBh688TbE",
      "include_colab_link": true
    },
    "kernelspec": {
      "name": "python3",
      "display_name": "Python 3"
    },
    "language_info": {
      "name": "python"
    }
  },
  "cells": [
    {
      "cell_type": "markdown",
      "metadata": {
        "id": "view-in-github",
        "colab_type": "text"
      },
      "source": [
        "<a href=\"https://colab.research.google.com/github/kofibeans/APM1111---SA2/blob/main/AQUINO_SA2_2_Alzheimer_Mice.ipynb\" target=\"_parent\"><img src=\"https://colab.research.google.com/assets/colab-badge.svg\" alt=\"Open In Colab\"/></a>"
      ]
    },
    {
      "cell_type": "markdown",
      "source": [
        "# **Alzheimer's Mice: Two-Way ANOVA**\n",
        "\n",
        "**Data Description**\n",
        "\n",
        "Mice are used in an experiment to test drugs that may prevent Alzheimer’s disease. Half the mice are transgenic – have been genetically modified to have Alzheimer’s disease. The other half of the mice are “wild type” – they have not been modified in any way, and are considered free of Alzheimer’s disease. The mice are assigned to treatment conditions and given one of four drugs, then tested on memory using a maze. The number of errors made in the maze is recorded for the Training Day and the Memory Day."
      ],
      "metadata": {
        "id": "B--juxm1okdp"
      }
    },
    {
      "cell_type": "markdown",
      "source": [
        "**Directions**\n",
        "1.\tAnalyze data using a 2-Factor (2B) ANOVA. (Just choose one of the two below. If you choose two, the other one will be considered a bonus item with a maximum of 15 points.)\n",
        "  * Compare the training day errors based on drug treatments and AD status.\n",
        "  * Compare the memory day errors based on drug treatments and AD status.\n",
        "2.\t Check the assumptions underlying the said ANOVA type.\n",
        "3.\tMake a report in APA format, including the checking of the assumptions.\n",
        "4.\tProvide a Github link to your file answering this problem. (5 points will be automatically deducted if without a Github link.\n",
        "\n",
        "*Note*:\n",
        "* Use Jupyter Notebook or R Studio with the proper formatting of your markdown and code. You may check your results using JASP.\n",
        "* Upload a Word file containing your Github link to your file or upload your R output or Python output using the tool below.\n",
        "* Be sure that your outputs/files already contain the results of your analysis and I don't have to run your code to check the output results. (Minus 5 if I still have to run your code to check your outputs.)\n"
      ],
      "metadata": {
        "id": "Vo-Ky6eJpmgj"
      }
    },
    {
      "cell_type": "markdown",
      "source": [
        "## **Exploratory Data Analysis**"
      ],
      "metadata": {
        "id": "uwRczKzawVQL"
      }
    },
    {
      "cell_type": "markdown",
      "source": [
        "### **Environment Set-up**\n",
        "\n",
        "The following code is written in Python. The libraries are pre-written functionality to perform necessary tasks."
      ],
      "metadata": {
        "id": "EP7bpbJnw5R0"
      }
    },
    {
      "cell_type": "code",
      "source": [
        "# import libraries\n",
        "\n",
        "# general setup and libraries\n",
        "import io\n",
        "import sys # access to system parameters\n",
        "import os  # os-related functionalities\n",
        "import numpy as np  # numerical computation\n",
        "import pandas as pd  # data manipulation and statistical analysis\n",
        "\n",
        "# data visualization\n",
        "import matplotlib.pyplot as plt  # plotting library\n",
        "import seaborn as sns  # data visualization based on matplotlib\n",
        "import pprint\n",
        "import IPython\n",
        "from IPython.display import HTML, display # pretty printing of dataframes in Jupyter notebook\n",
        "\n",
        "# statistical models and testing\n",
        "import statsmodels.formula.api as smf  # statistical models using formulas\n",
        "import statsmodels.api as sm  # statistical models and hypothesis testing\n",
        "from scipy import stats  # scientific computing and statistical functions\n",
        "\n",
        "# misc libraries\n",
        "import random\n",
        "import time\n",
        "\n",
        "# ignore warnings\n",
        "import warnings\n",
        "warnings.filterwarnings('ignore')\n",
        "print('-'*25)"
      ],
      "metadata": {
        "colab": {
          "base_uri": "https://localhost:8080/"
        },
        "id": "V2OIYKTF0rCz",
        "outputId": "bfd0f5dc-6cce-40e2-9c89-9c110b6825cc"
      },
      "execution_count": 9,
      "outputs": [
        {
          "output_type": "stream",
          "name": "stdout",
          "text": [
            "-------------------------\n"
          ]
        }
      ]
    },
    {
      "cell_type": "markdown",
      "source": [
        "### **Data Preparation**"
      ],
      "metadata": {
        "id": "qYvYbI_bxamq"
      }
    },
    {
      "cell_type": "markdown",
      "source": [
        "#### **Import Data**"
      ],
      "metadata": {
        "id": "-Z2a5PgTxg1s"
      }
    },
    {
      "cell_type": "code",
      "source": [
        "path = 'https://raw.githubusercontent.com/kofibeans/APM1111---SA2/main/Alzheimers%20Mice%20Data.csv'\n",
        "\n",
        "def load(path, info = True):\n",
        "  if len(path.split(\".csv\")) > 1:\n",
        "    read = pd.read_csv(path)\n",
        "  elif len(path.split(\".xlsx\")) > 1:\n",
        "    read = pd.read_excel(path)\n",
        "\n",
        "  if info:\n",
        "    if len(read) > 0:\n",
        "      print(\"# Dimensions\")\n",
        "      print(\"Observation:\", read.shape[0], \"Column:\", read.shape[1], \"\\n\")\n",
        "      print(\"# Dtypes\")\n",
        "      if len(read.select_dtypes(\"object\").columns) > 0:\n",
        "        print(\"-- Object Variables: \",\n",
        "        len(read.select_dtypes(\"object\").columns), \" \",\n",
        "        read.select_dtypes(\"object\").columns.tolist(), \"\")\n",
        "\n",
        "      if len(read.select_dtypes(\"integer\").columns) > 0:\n",
        "        print(\"-- Integer Variables: \",\n",
        "        len(read.select_dtypes(\"integer\").columns), \" \",\n",
        "        read.select_dtypes(\"integer\").columns.tolist(), \"\")\n",
        "\n",
        "      if len(read.select_dtypes(\"float\").columns) > 0:\n",
        "        print(\"-- Float Variables:\",\n",
        "        len(read.select_dtypes(\"float\").columns), \" \",\n",
        "        read.select_dtypes(\"float\").columns.tolist(), \"\")\n",
        "\n",
        "      if len(read.select_dtypes(\"bool\").columns) > 0:\n",
        "         print(\"-- Bool Variables:\",\n",
        "        len(read.select_dtypes(\"bool\").columns), \" \",\n",
        "        read.select_dtypes(\"bool\").columns.tolist(), \"\")\n",
        "\n",
        "      print(\"\\n# Missing Value\")\n",
        "      print(\"-- Are there any missing values? \", np.where(read.isnull().values.any() == False, \"[No missing value!]\", \"[Data includes missing value!]\"), \"\\n\")\n",
        "      buf = io.StringIO()\n",
        "      read.info(buf=buf)\n",
        "      info = buf.getvalue().split('\\n')[-2].split(\":\")[1].strip()\n",
        "      print(\"# Memory Usage: \", info, \"\\n\")\n",
        "\n",
        "    else:\n",
        "      print(\"# Data did not import!\")\n",
        "\n",
        "  return read\n",
        "\n",
        "data = load(path, info = True)"
      ],
      "metadata": {
        "colab": {
          "base_uri": "https://localhost:8080/"
        },
        "id": "Sba0Gf8k5VVc",
        "outputId": "046e7a4a-272e-48c2-b95a-7416c102655f"
      },
      "execution_count": 10,
      "outputs": [
        {
          "output_type": "stream",
          "name": "stdout",
          "text": [
            "# Dimensions\n",
            "Observation: 40 Column: 4 \n",
            "\n",
            "# Dtypes\n",
            "-- Integer Variables:  4   ['AD_Status', 'Treatment', 'Training', 'Memory'] \n",
            "\n",
            "# Missing Value\n",
            "-- Are there any missing values?  [No missing value!] \n",
            "\n",
            "# Memory Usage:  1.4 KB \n",
            "\n"
          ]
        }
      ]
    },
    {
      "cell_type": "markdown",
      "source": [
        "### **Descriptive Statistics**"
      ],
      "metadata": {
        "id": "OZR_yCUDxwOd"
      }
    },
    {
      "cell_type": "code",
      "source": [
        "def coefficient_of_variation(x):\n",
        "    mean_value = x.mean()\n",
        "    std_dev = x.std()\n",
        "    if mean_value != 0:\n",
        "        return (std_dev / mean_value)\n",
        "    else:\n",
        "        return np.nan\n",
        "\n",
        "summary = (\n",
        "    data.groupby(['Treatment', 'AD_Status'])\n",
        "    .agg(\n",
        "      N = ('Memory', 'count'),\n",
        "      Min = ('Memory', 'min'),\n",
        "      Q1 = ('Memory', lambda x: x.quantile(0.25)),\n",
        "      Median = ('Memory', 'median'),\n",
        "      Mean = ('Memory', np.mean),\n",
        "      SD = ('Memory', 'std'),\n",
        "      SE = ('Memory', lambda x: np.std(x, ddof = 1) / np.sqrt(len(x))),\n",
        "      CV  =('Memory', coefficient_of_variation),\n",
        "      Q3 = ('Memory', lambda x: x.quantile(0.75)),\n",
        "      Max = ('Memory', 'max')\n",
        "    )\n",
        ")\n",
        "\n",
        "# display the styled df\n",
        "summary.style.set_precision(3)"
      ],
      "metadata": {
        "colab": {
          "base_uri": "https://localhost:8080/",
          "height": 331
        },
        "id": "zAUNWQeE5nEQ",
        "outputId": "946c94d0-52d7-4c86-dd02-6c219bc2ff11"
      },
      "execution_count": 19,
      "outputs": [
        {
          "output_type": "execute_result",
          "data": {
            "text/plain": [
              "<pandas.io.formats.style.Styler at 0x7a325dcffd60>"
            ],
            "text/html": [
              "<style type=\"text/css\">\n",
              "</style>\n",
              "<table id=\"T_afcf7\" class=\"dataframe\">\n",
              "  <thead>\n",
              "    <tr>\n",
              "      <th class=\"blank\" >&nbsp;</th>\n",
              "      <th class=\"blank level0\" >&nbsp;</th>\n",
              "      <th id=\"T_afcf7_level0_col0\" class=\"col_heading level0 col0\" >N</th>\n",
              "      <th id=\"T_afcf7_level0_col1\" class=\"col_heading level0 col1\" >Min</th>\n",
              "      <th id=\"T_afcf7_level0_col2\" class=\"col_heading level0 col2\" >Q1</th>\n",
              "      <th id=\"T_afcf7_level0_col3\" class=\"col_heading level0 col3\" >Median</th>\n",
              "      <th id=\"T_afcf7_level0_col4\" class=\"col_heading level0 col4\" >Mean</th>\n",
              "      <th id=\"T_afcf7_level0_col5\" class=\"col_heading level0 col5\" >SD</th>\n",
              "      <th id=\"T_afcf7_level0_col6\" class=\"col_heading level0 col6\" >SE</th>\n",
              "      <th id=\"T_afcf7_level0_col7\" class=\"col_heading level0 col7\" >CV</th>\n",
              "      <th id=\"T_afcf7_level0_col8\" class=\"col_heading level0 col8\" >Q3</th>\n",
              "      <th id=\"T_afcf7_level0_col9\" class=\"col_heading level0 col9\" >Max</th>\n",
              "    </tr>\n",
              "    <tr>\n",
              "      <th class=\"index_name level0\" >Treatment</th>\n",
              "      <th class=\"index_name level1\" >AD_Status</th>\n",
              "      <th class=\"blank col0\" >&nbsp;</th>\n",
              "      <th class=\"blank col1\" >&nbsp;</th>\n",
              "      <th class=\"blank col2\" >&nbsp;</th>\n",
              "      <th class=\"blank col3\" >&nbsp;</th>\n",
              "      <th class=\"blank col4\" >&nbsp;</th>\n",
              "      <th class=\"blank col5\" >&nbsp;</th>\n",
              "      <th class=\"blank col6\" >&nbsp;</th>\n",
              "      <th class=\"blank col7\" >&nbsp;</th>\n",
              "      <th class=\"blank col8\" >&nbsp;</th>\n",
              "      <th class=\"blank col9\" >&nbsp;</th>\n",
              "    </tr>\n",
              "  </thead>\n",
              "  <tbody>\n",
              "    <tr>\n",
              "      <th id=\"T_afcf7_level0_row0\" class=\"row_heading level0 row0\" rowspan=\"2\">1</th>\n",
              "      <th id=\"T_afcf7_level1_row0\" class=\"row_heading level1 row0\" >1</th>\n",
              "      <td id=\"T_afcf7_row0_col0\" class=\"data row0 col0\" >5</td>\n",
              "      <td id=\"T_afcf7_row0_col1\" class=\"data row0 col1\" >10</td>\n",
              "      <td id=\"T_afcf7_row0_col2\" class=\"data row0 col2\" >10.000</td>\n",
              "      <td id=\"T_afcf7_row0_col3\" class=\"data row0 col3\" >12.000</td>\n",
              "      <td id=\"T_afcf7_row0_col4\" class=\"data row0 col4\" >11.600</td>\n",
              "      <td id=\"T_afcf7_row0_col5\" class=\"data row0 col5\" >1.517</td>\n",
              "      <td id=\"T_afcf7_row0_col6\" class=\"data row0 col6\" >0.678</td>\n",
              "      <td id=\"T_afcf7_row0_col7\" class=\"data row0 col7\" >0.131</td>\n",
              "      <td id=\"T_afcf7_row0_col8\" class=\"data row0 col8\" >13.000</td>\n",
              "      <td id=\"T_afcf7_row0_col9\" class=\"data row0 col9\" >13</td>\n",
              "    </tr>\n",
              "    <tr>\n",
              "      <th id=\"T_afcf7_level1_row1\" class=\"row_heading level1 row1\" >2</th>\n",
              "      <td id=\"T_afcf7_row1_col0\" class=\"data row1 col0\" >5</td>\n",
              "      <td id=\"T_afcf7_row1_col1\" class=\"data row1 col1\" >8</td>\n",
              "      <td id=\"T_afcf7_row1_col2\" class=\"data row1 col2\" >8.000</td>\n",
              "      <td id=\"T_afcf7_row1_col3\" class=\"data row1 col3\" >8.000</td>\n",
              "      <td id=\"T_afcf7_row1_col4\" class=\"data row1 col4\" >8.600</td>\n",
              "      <td id=\"T_afcf7_row1_col5\" class=\"data row1 col5\" >0.894</td>\n",
              "      <td id=\"T_afcf7_row1_col6\" class=\"data row1 col6\" >0.400</td>\n",
              "      <td id=\"T_afcf7_row1_col7\" class=\"data row1 col7\" >0.104</td>\n",
              "      <td id=\"T_afcf7_row1_col8\" class=\"data row1 col8\" >9.000</td>\n",
              "      <td id=\"T_afcf7_row1_col9\" class=\"data row1 col9\" >10</td>\n",
              "    </tr>\n",
              "    <tr>\n",
              "      <th id=\"T_afcf7_level0_row2\" class=\"row_heading level0 row2\" rowspan=\"2\">2</th>\n",
              "      <th id=\"T_afcf7_level1_row2\" class=\"row_heading level1 row2\" >1</th>\n",
              "      <td id=\"T_afcf7_row2_col0\" class=\"data row2 col0\" >5</td>\n",
              "      <td id=\"T_afcf7_row2_col1\" class=\"data row2 col1\" >11</td>\n",
              "      <td id=\"T_afcf7_row2_col2\" class=\"data row2 col2\" >13.000</td>\n",
              "      <td id=\"T_afcf7_row2_col3\" class=\"data row2 col3\" >13.000</td>\n",
              "      <td id=\"T_afcf7_row2_col4\" class=\"data row2 col4\" >13.200</td>\n",
              "      <td id=\"T_afcf7_row2_col5\" class=\"data row2 col5\" >1.483</td>\n",
              "      <td id=\"T_afcf7_row2_col6\" class=\"data row2 col6\" >0.663</td>\n",
              "      <td id=\"T_afcf7_row2_col7\" class=\"data row2 col7\" >0.112</td>\n",
              "      <td id=\"T_afcf7_row2_col8\" class=\"data row2 col8\" >14.000</td>\n",
              "      <td id=\"T_afcf7_row2_col9\" class=\"data row2 col9\" >15</td>\n",
              "    </tr>\n",
              "    <tr>\n",
              "      <th id=\"T_afcf7_level1_row3\" class=\"row_heading level1 row3\" >2</th>\n",
              "      <td id=\"T_afcf7_row3_col0\" class=\"data row3 col0\" >5</td>\n",
              "      <td id=\"T_afcf7_row3_col1\" class=\"data row3 col1\" >5</td>\n",
              "      <td id=\"T_afcf7_row3_col2\" class=\"data row3 col2\" >7.000</td>\n",
              "      <td id=\"T_afcf7_row3_col3\" class=\"data row3 col3\" >7.000</td>\n",
              "      <td id=\"T_afcf7_row3_col4\" class=\"data row3 col4\" >7.600</td>\n",
              "      <td id=\"T_afcf7_row3_col5\" class=\"data row3 col5\" >1.949</td>\n",
              "      <td id=\"T_afcf7_row3_col6\" class=\"data row3 col6\" >0.872</td>\n",
              "      <td id=\"T_afcf7_row3_col7\" class=\"data row3 col7\" >0.256</td>\n",
              "      <td id=\"T_afcf7_row3_col8\" class=\"data row3 col8\" >9.000</td>\n",
              "      <td id=\"T_afcf7_row3_col9\" class=\"data row3 col9\" >10</td>\n",
              "    </tr>\n",
              "    <tr>\n",
              "      <th id=\"T_afcf7_level0_row4\" class=\"row_heading level0 row4\" rowspan=\"2\">3</th>\n",
              "      <th id=\"T_afcf7_level1_row4\" class=\"row_heading level1 row4\" >1</th>\n",
              "      <td id=\"T_afcf7_row4_col0\" class=\"data row4 col0\" >5</td>\n",
              "      <td id=\"T_afcf7_row4_col1\" class=\"data row4 col1\" >10</td>\n",
              "      <td id=\"T_afcf7_row4_col2\" class=\"data row4 col2\" >11.000</td>\n",
              "      <td id=\"T_afcf7_row4_col3\" class=\"data row4 col3\" >12.000</td>\n",
              "      <td id=\"T_afcf7_row4_col4\" class=\"data row4 col4\" >12.400</td>\n",
              "      <td id=\"T_afcf7_row4_col5\" class=\"data row4 col5\" >2.074</td>\n",
              "      <td id=\"T_afcf7_row4_col6\" class=\"data row4 col6\" >0.927</td>\n",
              "      <td id=\"T_afcf7_row4_col7\" class=\"data row4 col7\" >0.167</td>\n",
              "      <td id=\"T_afcf7_row4_col8\" class=\"data row4 col8\" >14.000</td>\n",
              "      <td id=\"T_afcf7_row4_col9\" class=\"data row4 col9\" >15</td>\n",
              "    </tr>\n",
              "    <tr>\n",
              "      <th id=\"T_afcf7_level1_row5\" class=\"row_heading level1 row5\" >2</th>\n",
              "      <td id=\"T_afcf7_row5_col0\" class=\"data row5 col0\" >5</td>\n",
              "      <td id=\"T_afcf7_row5_col1\" class=\"data row5 col1\" >7</td>\n",
              "      <td id=\"T_afcf7_row5_col2\" class=\"data row5 col2\" >8.000</td>\n",
              "      <td id=\"T_afcf7_row5_col3\" class=\"data row5 col3\" >8.000</td>\n",
              "      <td id=\"T_afcf7_row5_col4\" class=\"data row5 col4\" >8.200</td>\n",
              "      <td id=\"T_afcf7_row5_col5\" class=\"data row5 col5\" >0.837</td>\n",
              "      <td id=\"T_afcf7_row5_col6\" class=\"data row5 col6\" >0.374</td>\n",
              "      <td id=\"T_afcf7_row5_col7\" class=\"data row5 col7\" >0.102</td>\n",
              "      <td id=\"T_afcf7_row5_col8\" class=\"data row5 col8\" >9.000</td>\n",
              "      <td id=\"T_afcf7_row5_col9\" class=\"data row5 col9\" >9</td>\n",
              "    </tr>\n",
              "    <tr>\n",
              "      <th id=\"T_afcf7_level0_row6\" class=\"row_heading level0 row6\" rowspan=\"2\">4</th>\n",
              "      <th id=\"T_afcf7_level1_row6\" class=\"row_heading level1 row6\" >1</th>\n",
              "      <td id=\"T_afcf7_row6_col0\" class=\"data row6 col0\" >5</td>\n",
              "      <td id=\"T_afcf7_row6_col1\" class=\"data row6 col1\" >10</td>\n",
              "      <td id=\"T_afcf7_row6_col2\" class=\"data row6 col2\" >10.000</td>\n",
              "      <td id=\"T_afcf7_row6_col3\" class=\"data row6 col3\" >11.000</td>\n",
              "      <td id=\"T_afcf7_row6_col4\" class=\"data row6 col4\" >11.200</td>\n",
              "      <td id=\"T_afcf7_row6_col5\" class=\"data row6 col5\" >1.304</td>\n",
              "      <td id=\"T_afcf7_row6_col6\" class=\"data row6 col6\" >0.583</td>\n",
              "      <td id=\"T_afcf7_row6_col7\" class=\"data row6 col7\" >0.116</td>\n",
              "      <td id=\"T_afcf7_row6_col8\" class=\"data row6 col8\" >12.000</td>\n",
              "      <td id=\"T_afcf7_row6_col9\" class=\"data row6 col9\" >13</td>\n",
              "    </tr>\n",
              "    <tr>\n",
              "      <th id=\"T_afcf7_level1_row7\" class=\"row_heading level1 row7\" >2</th>\n",
              "      <td id=\"T_afcf7_row7_col0\" class=\"data row7 col0\" >5</td>\n",
              "      <td id=\"T_afcf7_row7_col1\" class=\"data row7 col1\" >4</td>\n",
              "      <td id=\"T_afcf7_row7_col2\" class=\"data row7 col2\" >5.000</td>\n",
              "      <td id=\"T_afcf7_row7_col3\" class=\"data row7 col3\" >7.000</td>\n",
              "      <td id=\"T_afcf7_row7_col4\" class=\"data row7 col4\" >6.600</td>\n",
              "      <td id=\"T_afcf7_row7_col5\" class=\"data row7 col5\" >2.074</td>\n",
              "      <td id=\"T_afcf7_row7_col6\" class=\"data row7 col6\" >0.927</td>\n",
              "      <td id=\"T_afcf7_row7_col7\" class=\"data row7 col7\" >0.314</td>\n",
              "      <td id=\"T_afcf7_row7_col8\" class=\"data row7 col8\" >8.000</td>\n",
              "      <td id=\"T_afcf7_row7_col9\" class=\"data row7 col9\" >9</td>\n",
              "    </tr>\n",
              "  </tbody>\n",
              "</table>\n"
            ]
          },
          "metadata": {},
          "execution_count": 19
        }
      ]
    },
    {
      "cell_type": "markdown",
      "source": [
        "## **Assumption Check**\n",
        "\n",
        "The assumptions based on the data analysis done so far need to be validated further before taking appropriate actions."
      ],
      "metadata": {
        "id": "ySQAWx6Rx0Ep"
      }
    },
    {
      "cell_type": "markdown",
      "source": [
        "### **Assumptions 1 - 3**"
      ],
      "metadata": {
        "id": "-u9Sg_YTx2fe"
      }
    },
    {
      "cell_type": "markdown",
      "source": [
        "**Assumption 1:** You have one dependent variable that is measured at the continuous level.\n",
        "\n",
        "> ***Remark.*** The dependent variable was called `Memory` and is a continuous level.\n",
        "\n",
        "**Assumption 2:** You have two independent variables where each independent variable consists of two or more categorical, independent groups.\n",
        "\n",
        "> ***Remark.*** The independent variables are `AD_Status` and `Treatment`.\n",
        "\n",
        "**Assumption 3:** You should have independence of observations.\n",
        "\n",
        "> ***Remark.*** Each observation is independent with each other as there is no relationship between the observations in each group of the independent variable or between the groups themselves."
      ],
      "metadata": {
        "id": "nNJHqCgVZeCG"
      }
    },
    {
      "cell_type": "markdown",
      "source": [
        "### **Assumption 4: Outliers**"
      ],
      "metadata": {
        "id": "JMTgs72WyA3R"
      }
    },
    {
      "cell_type": "markdown",
      "source": [
        "There should be no significant outliers in the groups of your independent variable in terms of the dependent variable."
      ],
      "metadata": {
        "id": "_srSfmp3ZqSZ"
      }
    },
    {
      "cell_type": "markdown",
      "source": [
        "####**Outlier Detection Through Box-plot**\n",
        "\n",
        "To visually inspect outliers through box-plots, observe the points beyond the \"whiskers\" of the boxplot."
      ],
      "metadata": {
        "id": "SK6h3_fZxpCJ"
      }
    },
    {
      "cell_type": "code",
      "source": [
        "sns.boxplot(x = 'AD_Status', y = 'Memory', hue = 'Treatment', data = data)"
      ],
      "metadata": {
        "colab": {
          "base_uri": "https://localhost:8080/",
          "height": 466
        },
        "id": "eF_kqlqZbJ46",
        "outputId": "6ed4f401-872e-4ab0-fb17-528111f9e66f"
      },
      "execution_count": 20,
      "outputs": [
        {
          "output_type": "execute_result",
          "data": {
            "text/plain": [
              "<Axes: xlabel='AD_Status', ylabel='Memory'>"
            ]
          },
          "metadata": {},
          "execution_count": 20
        },
        {
          "output_type": "display_data",
          "data": {
            "text/plain": [
              "<Figure size 640x480 with 1 Axes>"
            ],
            "image/png": "[encoded data removed]"
          },
          "metadata": {}
        }
      ]
    },
    {
      "cell_type": "markdown",
      "source": [
        "####**Outlier Detection Through z-score**\n",
        "\n",
        "To identify outliers using the z-score, we can set a threshold value by 3. Data points with a z-score greater than 3 or less than -3 can be considered an *extreme* outlier."
      ],
      "metadata": {
        "id": "cnV7_a0VxdlH"
      }
    },
    {
      "cell_type": "code",
      "source": [
        "from scipy.stats import zscore\n",
        "\n",
        "def identify_outliers(group):\n",
        "    z_scores = zscore(group['Memory'])\n",
        "    outliers = (z_scores > 3) | (z_scores < -3)\n",
        "    return group[outliers]\n",
        "\n",
        "outliers = data.groupby(['AD_Status', 'Treatment']).apply(identify_outliers)\n",
        "\n",
        "# display the styled df\n",
        "outliers.style"
      ],
      "metadata": {
        "colab": {
          "base_uri": "https://localhost:8080/",
          "height": 81
        },
        "id": "hL5roXDSxx5P",
        "outputId": "80225907-e170-467d-ca25-a72ff8e26a55"
      },
      "execution_count": 21,
      "outputs": [
        {
          "output_type": "execute_result",
          "data": {
            "text/plain": [
              "<pandas.io.formats.style.Styler at 0x7a32257273d0>"
            ],
            "text/html": [
              "<style type=\"text/css\">\n",
              "</style>\n",
              "<table id=\"T_68f1d\" class=\"dataframe\">\n",
              "  <thead>\n",
              "    <tr>\n",
              "      <th class=\"blank\" >&nbsp;</th>\n",
              "      <th class=\"blank\" >&nbsp;</th>\n",
              "      <th class=\"blank level0\" >&nbsp;</th>\n",
              "      <th id=\"T_68f1d_level0_col0\" class=\"col_heading level0 col0\" >AD_Status</th>\n",
              "      <th id=\"T_68f1d_level0_col1\" class=\"col_heading level0 col1\" >Treatment</th>\n",
              "      <th id=\"T_68f1d_level0_col2\" class=\"col_heading level0 col2\" >Training</th>\n",
              "      <th id=\"T_68f1d_level0_col3\" class=\"col_heading level0 col3\" >Memory</th>\n",
              "    </tr>\n",
              "    <tr>\n",
              "      <th class=\"index_name level0\" >AD_Status</th>\n",
              "      <th class=\"index_name level1\" >Treatment</th>\n",
              "      <th class=\"index_name level2\" >&nbsp;</th>\n",
              "      <th class=\"blank col0\" >&nbsp;</th>\n",
              "      <th class=\"blank col1\" >&nbsp;</th>\n",
              "      <th class=\"blank col2\" >&nbsp;</th>\n",
              "      <th class=\"blank col3\" >&nbsp;</th>\n",
              "    </tr>\n",
              "  </thead>\n",
              "  <tbody>\n",
              "  </tbody>\n",
              "</table>\n"
            ]
          },
          "metadata": {},
          "execution_count": 21
        }
      ]
    },
    {
      "cell_type": "markdown",
      "source": [
        "\n",
        "> ***Remark.*** There were no extreme outliers."
      ],
      "metadata": {
        "id": "zU-0sadORLSb"
      }
    },
    {
      "cell_type": "markdown",
      "source": [
        "### **Assumption 5: Normality**\n",
        "\n",
        "Your **dependent variable** should be **approximately normally distributed for each combination of the groups of your two factors** (i.e., your within-subjects factor and between-subjects factor)."
      ],
      "metadata": {
        "id": "BN4oJCn2yFww"
      }
    },
    {
      "cell_type": "code",
      "source": [
        "from scipy.stats import shapiro\n",
        "\n",
        "# group the columns: gender, looks, personality\n",
        "grouped_data = data.groupby(['AD_Status', 'Treatment'])\n",
        "\n",
        "# initialize an empty dictionary to store the results\n",
        "result_dict = {}\n",
        "\n",
        "# perform the shapiro-wilk test for normality for each group\n",
        "for group_name, group_df in grouped_data:\n",
        "    result = shapiro(group_df['Memory'])\n",
        "    result_dict[group_name] = {'W-statistic': result.statistic, 'p-value': result.pvalue}\n",
        "\n",
        "# convert the dictionary to a df\n",
        "result_df = pd.DataFrame(result_dict).T\n",
        "\n",
        "# display the styled df\n",
        "result_df.style"
      ],
      "metadata": {
        "colab": {
          "base_uri": "https://localhost:8080/",
          "height": 300
        },
        "id": "JaSb3SRv9bJr",
        "outputId": "d6291517-9393-4b10-f024-7c836d9df984"
      },
      "execution_count": 22,
      "outputs": [
        {
          "output_type": "execute_result",
          "data": {
            "text/plain": [
              "<pandas.io.formats.style.Styler at 0x7a3226630a30>"
            ],
            "text/html": [
              "<style type=\"text/css\">\n",
              "</style>\n",
              "<table id=\"T_6f8d4\" class=\"dataframe\">\n",
              "  <thead>\n",
              "    <tr>\n",
              "      <th class=\"blank\" >&nbsp;</th>\n",
              "      <th class=\"blank level0\" >&nbsp;</th>\n",
              "      <th id=\"T_6f8d4_level0_col0\" class=\"col_heading level0 col0\" >W-statistic</th>\n",
              "      <th id=\"T_6f8d4_level0_col1\" class=\"col_heading level0 col1\" >p-value</th>\n",
              "    </tr>\n",
              "  </thead>\n",
              "  <tbody>\n",
              "    <tr>\n",
              "      <th id=\"T_6f8d4_level0_row0\" class=\"row_heading level0 row0\" rowspan=\"4\">1</th>\n",
              "      <th id=\"T_6f8d4_level1_row0\" class=\"row_heading level1 row0\" >1</th>\n",
              "      <td id=\"T_6f8d4_row0_col0\" class=\"data row0 col0\" >0.802990</td>\n",
              "      <td id=\"T_6f8d4_row0_col1\" class=\"data row0 col1\" >0.085692</td>\n",
              "    </tr>\n",
              "    <tr>\n",
              "      <th id=\"T_6f8d4_level1_row1\" class=\"row_heading level1 row1\" >2</th>\n",
              "      <td id=\"T_6f8d4_row1_col0\" class=\"data row1 col0\" >0.955627</td>\n",
              "      <td id=\"T_6f8d4_row1_col1\" class=\"data row1 col1\" >0.777254</td>\n",
              "    </tr>\n",
              "    <tr>\n",
              "      <th id=\"T_6f8d4_level1_row2\" class=\"row_heading level1 row2\" >3</th>\n",
              "      <td id=\"T_6f8d4_row2_col0\" class=\"data row2 col0\" >0.952351</td>\n",
              "      <td id=\"T_6f8d4_row2_col1\" class=\"data row2 col1\" >0.753973</td>\n",
              "    </tr>\n",
              "    <tr>\n",
              "      <th id=\"T_6f8d4_level1_row3\" class=\"row_heading level1 row3\" >4</th>\n",
              "      <td id=\"T_6f8d4_row3_col0\" class=\"data row3 col0\" >0.902020</td>\n",
              "      <td id=\"T_6f8d4_row3_col1\" class=\"data row3 col1\" >0.421149</td>\n",
              "    </tr>\n",
              "    <tr>\n",
              "      <th id=\"T_6f8d4_level0_row4\" class=\"row_heading level0 row4\" rowspan=\"4\">2</th>\n",
              "      <th id=\"T_6f8d4_level1_row4\" class=\"row_heading level1 row4\" >1</th>\n",
              "      <td id=\"T_6f8d4_row4_col0\" class=\"data row4 col0\" >0.770908</td>\n",
              "      <td id=\"T_6f8d4_row4_col1\" class=\"data row4 col1\" >0.045954</td>\n",
              "    </tr>\n",
              "    <tr>\n",
              "      <th id=\"T_6f8d4_level1_row5\" class=\"row_heading level1 row5\" >2</th>\n",
              "      <td id=\"T_6f8d4_row5_col0\" class=\"data row5 col0\" >0.952960</td>\n",
              "      <td id=\"T_6f8d4_row5_col1\" class=\"data row5 col1\" >0.758312</td>\n",
              "    </tr>\n",
              "    <tr>\n",
              "      <th id=\"T_6f8d4_level1_row6\" class=\"row_heading level1 row6\" >3</th>\n",
              "      <td id=\"T_6f8d4_row6_col0\" class=\"data row6 col0\" >0.881038</td>\n",
              "      <td id=\"T_6f8d4_row6_col1\" class=\"data row6 col1\" >0.314040</td>\n",
              "    </tr>\n",
              "    <tr>\n",
              "      <th id=\"T_6f8d4_level1_row7\" class=\"row_heading level1 row7\" >4</th>\n",
              "      <td id=\"T_6f8d4_row7_col0\" class=\"data row7 col0\" >0.952351</td>\n",
              "      <td id=\"T_6f8d4_row7_col1\" class=\"data row7 col1\" >0.753973</td>\n",
              "    </tr>\n",
              "  </tbody>\n",
              "</table>\n"
            ]
          },
          "metadata": {},
          "execution_count": 22
        }
      ]
    },
    {
      "cell_type": "markdown",
      "source": [
        "\n",
        "> The data was normally distributed (p \\> 0.05), as assessed by Shapiro-Wilk's test of normality."
      ],
      "metadata": {
        "id": "2dAN1EAj_qs-"
      }
    },
    {
      "cell_type": "markdown",
      "source": [
        "### **Assumption 6: Homogeneity of Variance**\n",
        "\n",
        "There needs to be **homogeneity of variances for each combination of the groups of your two factors** (i.e., your within-subjects factor and between-subjects factor)."
      ],
      "metadata": {
        "id": "6s3BpnfzyJw1"
      }
    },
    {
      "cell_type": "code",
      "source": [
        "# group the data\n",
        "group_0 = data[data['AD_Status'] == 1][data['Treatment'] == 1]['Memory']\n",
        "group_1 = data[data['AD_Status'] == 1][data['Treatment'] == 2]['Memory']\n",
        "group_2 = data[data['AD_Status'] == 1][data['Treatment'] == 3]['Memory']\n",
        "group_3 = data[data['AD_Status'] == 1][data['Treatment'] == 4]['Memory']\n",
        "\n",
        "group_4 = data[data['AD_Status'] == 2][data['Treatment'] == 1]['Memory']\n",
        "group_5 = data[data['AD_Status'] == 2][data['Treatment'] == 2]['Memory']\n",
        "group_6 = data[data['AD_Status'] == 2][data['Treatment'] == 3]['Memory']\n",
        "group_7 = data[data['AD_Status'] == 2][data['Treatment'] == 4]['Memory']\n",
        "\n",
        "# perform levene test\n",
        "lt_results = stats.levene(group_0, group_1, group_2, group_3, group_4, group_5, group_6, group_7, center = 'mean')\n",
        "\n",
        "# create a dictionary with the results\n",
        "results = {\n",
        "    'F': lt_results.statistic,\n",
        "    'df1': [8 - 1],\n",
        "    'df2': [len(group_0) + len(group_1) + len(group_2) + len(group_3) + len(group_4) + len(group_5) + len(group_6) + len(group_7) - 8],\n",
        "    'p': lt_results.pvalue\n",
        "}\n",
        "# create a dataframe with the results\n",
        "results_lt = pd.DataFrame(results)\n",
        "\n",
        "# print and style the dataframe\n",
        "print(\"\\n Test of Equality of Variances\")\n",
        "results_lt.style.set_precision(3)"
      ],
      "metadata": {
        "colab": {
          "base_uri": "https://localhost:8080/",
          "height": 115
        },
        "id": "S1_cfElaBq6K",
        "outputId": "95c6b850-b487-4403-f1f2-e06ca034cfcb"
      },
      "execution_count": 36,
      "outputs": [
        {
          "output_type": "stream",
          "name": "stdout",
          "text": [
            "\n",
            " Test of Equality of Variances\n"
          ]
        },
        {
          "output_type": "execute_result",
          "data": {
            "text/plain": [
              "<pandas.io.formats.style.Styler at 0x7a321fc87040>"
            ],
            "text/html": [
              "<style type=\"text/css\">\n",
              "</style>\n",
              "<table id=\"T_81802\" class=\"dataframe\">\n",
              "  <thead>\n",
              "    <tr>\n",
              "      <th class=\"blank level0\" >&nbsp;</th>\n",
              "      <th id=\"T_81802_level0_col0\" class=\"col_heading level0 col0\" >F</th>\n",
              "      <th id=\"T_81802_level0_col1\" class=\"col_heading level0 col1\" >df1</th>\n",
              "      <th id=\"T_81802_level0_col2\" class=\"col_heading level0 col2\" >df2</th>\n",
              "      <th id=\"T_81802_level0_col3\" class=\"col_heading level0 col3\" >p</th>\n",
              "    </tr>\n",
              "  </thead>\n",
              "  <tbody>\n",
              "    <tr>\n",
              "      <th id=\"T_81802_level0_row0\" class=\"row_heading level0 row0\" >0</th>\n",
              "      <td id=\"T_81802_row0_col0\" class=\"data row0 col0\" >1.568</td>\n",
              "      <td id=\"T_81802_row0_col1\" class=\"data row0 col1\" >7</td>\n",
              "      <td id=\"T_81802_row0_col2\" class=\"data row0 col2\" >32</td>\n",
              "      <td id=\"T_81802_row0_col3\" class=\"data row0 col3\" >0.181</td>\n",
              "    </tr>\n",
              "  </tbody>\n",
              "</table>\n"
            ]
          },
          "metadata": {},
          "execution_count": 36
        }
      ]
    },
    {
      "cell_type": "markdown",
      "source": [
        "\n",
        "\n",
        "> There was homogeneity of variances for all cells (p = 0.181), as assessed by Levene's test of homogeneity of variance.\n",
        "\n"
      ],
      "metadata": {
        "id": "O6kBUxQaCXmN"
      }
    },
    {
      "cell_type": "markdown",
      "source": [
        "## **ANOVA Testing and Computation**"
      ],
      "metadata": {
        "id": "-RdBBpQUchSv"
      }
    },
    {
      "cell_type": "code",
      "source": [
        "from statsmodels.formula.api import ols\n",
        "\n",
        "def anova_table(aov):\n",
        "    aov['mean_sq'] = aov[:]['sum_sq']/aov[:]['df']\n",
        "    aov['p_eta_sq'] = aov[:-1]['sum_sq']/sum(aov['sum_sq'])\n",
        "    cols = ['sum_sq', 'df', 'mean_sq', 'F', 'PR(>F)', 'p_eta_sq']\n",
        "    aov = aov[cols]\n",
        "    return aov\n",
        "\n",
        "model = ols('Memory ~ AD_Status + Treatment + AD_Status:Treatment', data = data).fit()\n",
        "aov_table = sm.stats.anova_lm(model, typ = 2)\n",
        "\n",
        "# display the styled df\n",
        "print(\"\\n ANOVA\")\n",
        "anova_table(aov_table).style.set_precision(3)"
      ],
      "metadata": {
        "colab": {
          "base_uri": "https://localhost:8080/",
          "height": 209
        },
        "id": "xAQ0fsCgY46E",
        "outputId": "30d78b64-6c24-434d-8bde-b56c8eec4f5e"
      },
      "execution_count": 35,
      "outputs": [
        {
          "output_type": "stream",
          "name": "stdout",
          "text": [
            "\n",
            " ANOVA\n"
          ]
        },
        {
          "output_type": "execute_result",
          "data": {
            "text/plain": [
              "<pandas.io.formats.style.Styler at 0x7a3225461210>"
            ],
            "text/html": [
              "<style type=\"text/css\">\n",
              "</style>\n",
              "<table id=\"T_de62a\" class=\"dataframe\">\n",
              "  <thead>\n",
              "    <tr>\n",
              "      <th class=\"blank level0\" >&nbsp;</th>\n",
              "      <th id=\"T_de62a_level0_col0\" class=\"col_heading level0 col0\" >sum_sq</th>\n",
              "      <th id=\"T_de62a_level0_col1\" class=\"col_heading level0 col1\" >df</th>\n",
              "      <th id=\"T_de62a_level0_col2\" class=\"col_heading level0 col2\" >mean_sq</th>\n",
              "      <th id=\"T_de62a_level0_col3\" class=\"col_heading level0 col3\" >F</th>\n",
              "      <th id=\"T_de62a_level0_col4\" class=\"col_heading level0 col4\" >PR(>F)</th>\n",
              "      <th id=\"T_de62a_level0_col5\" class=\"col_heading level0 col5\" >p_eta_sq</th>\n",
              "    </tr>\n",
              "  </thead>\n",
              "  <tbody>\n",
              "    <tr>\n",
              "      <th id=\"T_de62a_level0_row0\" class=\"row_heading level0 row0\" >AD_Status</th>\n",
              "      <td id=\"T_de62a_row0_col0\" class=\"data row0 col0\" >189.225</td>\n",
              "      <td id=\"T_de62a_row0_col1\" class=\"data row0 col1\" >1.000</td>\n",
              "      <td id=\"T_de62a_row0_col2\" class=\"data row0 col2\" >189.225</td>\n",
              "      <td id=\"T_de62a_row0_col3\" class=\"data row0 col3\" >71.511</td>\n",
              "      <td id=\"T_de62a_row0_col4\" class=\"data row0 col4\" >0.000</td>\n",
              "      <td id=\"T_de62a_row0_col5\" class=\"data row0 col5\" >0.646</td>\n",
              "    </tr>\n",
              "    <tr>\n",
              "      <th id=\"T_de62a_level0_row1\" class=\"row_heading level0 row1\" >Treatment</th>\n",
              "      <td id=\"T_de62a_row1_col0\" class=\"data row1 col0\" >6.845</td>\n",
              "      <td id=\"T_de62a_row1_col1\" class=\"data row1 col1\" >1.000</td>\n",
              "      <td id=\"T_de62a_row1_col2\" class=\"data row1 col2\" >6.845</td>\n",
              "      <td id=\"T_de62a_row1_col3\" class=\"data row1 col3\" >2.587</td>\n",
              "      <td id=\"T_de62a_row1_col4\" class=\"data row1 col4\" >0.116</td>\n",
              "      <td id=\"T_de62a_row1_col5\" class=\"data row1 col5\" >0.023</td>\n",
              "    </tr>\n",
              "    <tr>\n",
              "      <th id=\"T_de62a_level0_row2\" class=\"row_heading level0 row2\" >AD_Status:Treatment</th>\n",
              "      <td id=\"T_de62a_row2_col0\" class=\"data row2 col0\" >1.445</td>\n",
              "      <td id=\"T_de62a_row2_col1\" class=\"data row2 col1\" >1.000</td>\n",
              "      <td id=\"T_de62a_row2_col2\" class=\"data row2 col2\" >1.445</td>\n",
              "      <td id=\"T_de62a_row2_col3\" class=\"data row2 col3\" >0.546</td>\n",
              "      <td id=\"T_de62a_row2_col4\" class=\"data row2 col4\" >0.465</td>\n",
              "      <td id=\"T_de62a_row2_col5\" class=\"data row2 col5\" >0.005</td>\n",
              "    </tr>\n",
              "    <tr>\n",
              "      <th id=\"T_de62a_level0_row3\" class=\"row_heading level0 row3\" >Residual</th>\n",
              "      <td id=\"T_de62a_row3_col0\" class=\"data row3 col0\" >95.260</td>\n",
              "      <td id=\"T_de62a_row3_col1\" class=\"data row3 col1\" >36.000</td>\n",
              "      <td id=\"T_de62a_row3_col2\" class=\"data row3 col2\" >2.646</td>\n",
              "      <td id=\"T_de62a_row3_col3\" class=\"data row3 col3\" >nan</td>\n",
              "      <td id=\"T_de62a_row3_col4\" class=\"data row3 col4\" >nan</td>\n",
              "      <td id=\"T_de62a_row3_col5\" class=\"data row3 col5\" >nan</td>\n",
              "    </tr>\n",
              "  </tbody>\n",
              "</table>\n"
            ]
          },
          "metadata": {},
          "execution_count": 35
        }
      ]
    },
    {
      "cell_type": "markdown",
      "source": [
        "## **Reporting**"
      ],
      "metadata": {
        "id": "9CP3cgBrcl7q"
      }
    },
    {
      "cell_type": "markdown",
      "source": [
        "A two-way ANOVA was conducted to compare the memory day errors based on drug treatments and AD status. Data are mean ± standard deviation, unless otherwise stated. Residual analysis was performed to test for the assumptions of the two-way ANOVA. Outliers were assessed by inspection of a boxplot, normality was assessed using Shapiro-Wilk's normality test for each cell of the design and homogeneity of variances was assessed by Levene's test. There were no outliers, residuals were normally distributed (p > .05) and there was homogeneity of variances (p = .181). There was a statistically significant interaction between AD status and drug treatements on memory of rats, F(3, 32) = 1.151, p = .344, η2 = .220."
      ],
      "metadata": {
        "id": "xj_rApXLab95"
      }
    }
  ]
}