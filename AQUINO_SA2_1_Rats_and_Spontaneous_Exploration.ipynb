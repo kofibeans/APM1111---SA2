{
  "nbformat": 4,
  "nbformat_minor": 0,
  "metadata": {
    "colab": {
      "provenance": [],
      "authorship_tag": "ABX9TyOEKErsFasYoEz4qZVNgP8o",
      "include_colab_link": true
    },
    "kernelspec": {
      "name": "python3",
      "display_name": "Python 3"
    },
    "language_info": {
      "name": "python"
    }
  },
  "cells": [
    {
      "cell_type": "markdown",
      "metadata": {
        "id": "view-in-github",
        "colab_type": "text"
      },
      "source": [
        "<a href=\"https://colab.research.google.com/github/kofibeans/APM1111---SA2/blob/main/AQUINO_SA2_1_Rats_and_Spontaneous_Exploration.ipynb\" target=\"_parent\"><img src=\"https://colab.research.google.com/assets/colab-badge.svg\" alt=\"Open In Colab\"/></a>"
      ]
    },
    {
      "cell_type": "markdown",
      "source": [
        "# **Rats and Spontaneous Exploration: One-Way ANOVA**\n",
        "\n",
        "**Data Description**\n",
        "\n",
        "A cognitive psychologist was interested in the impact of 2 - dimensional visual stimuli on the spontaneous exploration behavior in rats.   Thirty-six (n = 36) rats were selected to participate and randomly assigned to three treatment conditions:\n",
        "\n",
        "* Visual images of shapes\n",
        "* Visual images of patterns\n",
        "* Visual images that used pictures\n",
        "\n",
        "Rats were released into a chamber and the number of seconds the rats spent exploring the experimental chamber with the images were recorded."
      ],
      "metadata": {
        "id": "6RjbgBAjneAK"
      }
    },
    {
      "cell_type": "markdown",
      "source": [
        "**Directions**\n",
        "1. Download the Rats and Spontaneous Exploration data set.\n",
        "2. Provide a full analysis using one of the ANOVA types to compare the number of seconds the rats spent exploring the experiment chamber with the images. Is there a significant difference in time spent between the three treatment conditions: shapes, patterns, and pictures?\n",
        "3. Check the assumptions underlying the chosen ANOVA type.\n",
        "4. Make a report in APA format, including the checking of the assumptions.\n",
        "5. Provide a Github link to your file answering this problem. (5 points will be automatically deducted if without a Github link.)\n",
        "\n",
        "*Note*:\n",
        "\n",
        "* Use Jupyter Notebook or R Studio with the proper formatting of your markdown and code. You may check your results using JASP.\n",
        "* Upload a Word file containing your Github link to your file or upload your R output or Python output using the tool below.\n",
        "* Be sure that your outputs/files already contain the results of your analysis and I don't have to run your code to check the output results. (Minus 5 if I still have to run your code to check your outputs.)"
      ],
      "metadata": {
        "id": "Gy7kgvHm6k-q"
      }
    },
    {
      "cell_type": "markdown",
      "source": [
        "## **Exploratory Data Analysis**"
      ],
      "metadata": {
        "id": "uwRczKzawVQL"
      }
    },
    {
      "cell_type": "markdown",
      "source": [
        "### **Environment Set-Up**"
      ],
      "metadata": {
        "id": "ITyF8GzubeYf"
      }
    },
    {
      "cell_type": "markdown",
      "source": [
        "The following code is written in Python. The libraries are pre-written functionaility to perform necessary tasks."
      ],
      "metadata": {
        "id": "TZDEHsefpY3j"
      }
    },
    {
      "cell_type": "code",
      "source": [
        "# import libraries\n",
        "\n",
        "# general setup and libraries\n",
        "import io\n",
        "import sys # access to system parameters\n",
        "import os  # os-related functionalities\n",
        "import numpy as np  # numerical computation\n",
        "import pandas as pd  # data manipulation and statistical analysis\n",
        "\n",
        "# data visualization\n",
        "import matplotlib.pyplot as plt  # plotting library\n",
        "import seaborn as sns  # data visualization based on matplotlib\n",
        "import pprint\n",
        "import IPython\n",
        "from IPython.display import HTML, display # pretty printing of dataframes in Jupyter notebook\n",
        "\n",
        "# statistical models and testing\n",
        "import statsmodels.formula.api as smf  # statistical models using formulas\n",
        "import statsmodels.api as sm  # statistical models and hypothesis testing\n",
        "from scipy import stats  # scientific computing and statistical functions\n",
        "\n",
        "# misc libraries\n",
        "import random\n",
        "import time\n",
        "\n",
        "# ignore warnings\n",
        "import warnings\n",
        "warnings.filterwarnings('ignore')\n",
        "print('-'*25)"
      ],
      "metadata": {
        "colab": {
          "base_uri": "https://localhost:8080/"
        },
        "id": "FITa2hrmphmI",
        "outputId": "a84623ee-cf34-44d4-cef9-ec1262a29947"
      },
      "execution_count": null,
      "outputs": [
        {
          "output_type": "stream",
          "name": "stdout",
          "text": [
            "-------------------------\n"
          ]
        }
      ]
    },
    {
      "cell_type": "markdown",
      "source": [
        "### **Data Preparation**"
      ],
      "metadata": {
        "id": "j-0gYYaZbleT"
      }
    },
    {
      "cell_type": "markdown",
      "source": [
        "#### **Import Data**"
      ],
      "metadata": {
        "id": "p6XWnSB6btmF"
      }
    },
    {
      "cell_type": "code",
      "source": [
        "path = 'https://raw.githubusercontent.com/kofibeans/APM1111---SA2/main/RatExploration_csvFile.csv'\n",
        "\n",
        "def load(path, info = True):\n",
        "  if len(path.split(\".csv\")) > 1:\n",
        "    read = pd.read_csv(path)\n",
        "  elif len(path.split(\".xlsx\")) > 1:\n",
        "    read = pd.read_excel(path)\n",
        "\n",
        "  if info:\n",
        "    if len(read) > 0:\n",
        "      print(\"# Dimensions\")\n",
        "      print(\"Observation:\", read.shape[0], \"Column:\", read.shape[1], \"\\n\")\n",
        "      print(\"# Dtypes\")\n",
        "      if len(read.select_dtypes(\"object\").columns) > 0:\n",
        "        print(\"-- Object Variables: \",\n",
        "        len(read.select_dtypes(\"object\").columns), \" \",\n",
        "        read.select_dtypes(\"object\").columns.tolist(), \"\")\n",
        "\n",
        "      if len(read.select_dtypes(\"integer\").columns) > 0:\n",
        "        print(\"-- Integer Variables: \",\n",
        "        len(read.select_dtypes(\"integer\").columns), \" \",\n",
        "        read.select_dtypes(\"integer\").columns.tolist(), \"\")\n",
        "\n",
        "      if len(read.select_dtypes(\"float\").columns) > 0:\n",
        "        print(\"-- Float Variables:\",\n",
        "        len(read.select_dtypes(\"float\").columns), \" \",\n",
        "        read.select_dtypes(\"float\").columns.tolist(), \"\")\n",
        "\n",
        "      if len(read.select_dtypes(\"bool\").columns) > 0:\n",
        "         print(\"-- Bool Variables:\",\n",
        "        len(read.select_dtypes(\"bool\").columns), \" \",\n",
        "        read.select_dtypes(\"bool\").columns.tolist(), \"\")\n",
        "\n",
        "      print(\"\\n# Missing Value\")\n",
        "      print(\"-- Are there any missing values? \", np.where(read.isnull().values.any() == False, \"[No missing value!]\", \"[Data includes missing value!]\"), \"\\n\")\n",
        "      buf = io.StringIO()\n",
        "      read.info(buf=buf)\n",
        "      info = buf.getvalue().split('\\n')[-2].split(\":\")[1].strip()\n",
        "      print(\"# Memory Usage: \", info, \"\\n\")\n",
        "\n",
        "    else:\n",
        "      print(\"# Data did not import!\")\n",
        "\n",
        "  return read\n",
        "\n",
        "data = load(path, info = True)"
      ],
      "metadata": {
        "colab": {
          "base_uri": "https://localhost:8080/"
        },
        "id": "ztze37SUpmDf",
        "outputId": "7f6374e0-4931-4a73-e8c2-9fae8fd73406"
      },
      "execution_count": null,
      "outputs": [
        {
          "output_type": "stream",
          "name": "stdout",
          "text": [
            "# Dimensions\n",
            "Observation: 36 Column: 3 \n",
            "\n",
            "# Dtypes\n",
            "-- Object Variables:  1   ['Stimuli'] \n",
            "-- Integer Variables:  1   ['ID'] \n",
            "-- Float Variables: 1   ['Time'] \n",
            "\n",
            "# Missing Value\n",
            "-- Are there any missing values?  [No missing value!] \n",
            "\n",
            "# Memory Usage:  992.0+ bytes \n",
            "\n"
          ]
        }
      ]
    },
    {
      "cell_type": "markdown",
      "source": [
        "### **Descriptive Statistics**"
      ],
      "metadata": {
        "id": "FuWFriLCcBv2"
      }
    },
    {
      "cell_type": "code",
      "source": [
        "def coefficient_of_variation(x):\n",
        "    mean_value = x.mean()\n",
        "    std_dev = x.std()\n",
        "    if mean_value != 0:\n",
        "        return (std_dev / mean_value)\n",
        "    else:\n",
        "        return np.nan\n",
        "\n",
        "summary = (\n",
        "    data.groupby('Stimuli')\n",
        "    .agg(\n",
        "      N = ('Time', 'count'),\n",
        "      Min = ('Time', 'min'),\n",
        "      Q1 = ('Time', lambda x: x.quantile(0.25)),\n",
        "      Median = ('Time', 'median'),\n",
        "      Mean = ('Time', np.mean),\n",
        "      SD = ('Time', 'std'),\n",
        "      SE = ('Time', lambda x: np.std(x, ddof = 1) / np.sqrt(len(x))),\n",
        "      CV  =('Time', coefficient_of_variation),\n",
        "      Q3 = ('Time', lambda x: x.quantile(0.75)),\n",
        "      Max = ('Time', 'max')\n",
        "    )\n",
        ")\n",
        "\n",
        "# display the styled df\n",
        "summary.style.set_precision(3)"
      ],
      "metadata": {
        "colab": {
          "base_uri": "https://localhost:8080/",
          "height": 175
        },
        "id": "y2KtEWRPvRvG",
        "outputId": "82fecde1-4011-46e0-f386-6ceed2e90971"
      },
      "execution_count": null,
      "outputs": [
        {
          "output_type": "execute_result",
          "data": {
            "text/plain": [
              "<pandas.io.formats.style.Styler at 0x7a9edad89060>"
            ],
            "text/html": [
              "<style type=\"text/css\">\n",
              "</style>\n",
              "<table id=\"T_c3ce2\" class=\"dataframe\">\n",
              "  <thead>\n",
              "    <tr>\n",
              "      <th class=\"blank level0\" >&nbsp;</th>\n",
              "      <th id=\"T_c3ce2_level0_col0\" class=\"col_heading level0 col0\" >N</th>\n",
              "      <th id=\"T_c3ce2_level0_col1\" class=\"col_heading level0 col1\" >Min</th>\n",
              "      <th id=\"T_c3ce2_level0_col2\" class=\"col_heading level0 col2\" >Q1</th>\n",
              "      <th id=\"T_c3ce2_level0_col3\" class=\"col_heading level0 col3\" >Median</th>\n",
              "      <th id=\"T_c3ce2_level0_col4\" class=\"col_heading level0 col4\" >Mean</th>\n",
              "      <th id=\"T_c3ce2_level0_col5\" class=\"col_heading level0 col5\" >SD</th>\n",
              "      <th id=\"T_c3ce2_level0_col6\" class=\"col_heading level0 col6\" >SE</th>\n",
              "      <th id=\"T_c3ce2_level0_col7\" class=\"col_heading level0 col7\" >CV</th>\n",
              "      <th id=\"T_c3ce2_level0_col8\" class=\"col_heading level0 col8\" >Q3</th>\n",
              "      <th id=\"T_c3ce2_level0_col9\" class=\"col_heading level0 col9\" >Max</th>\n",
              "    </tr>\n",
              "    <tr>\n",
              "      <th class=\"index_name level0\" >Stimuli</th>\n",
              "      <th class=\"blank col0\" >&nbsp;</th>\n",
              "      <th class=\"blank col1\" >&nbsp;</th>\n",
              "      <th class=\"blank col2\" >&nbsp;</th>\n",
              "      <th class=\"blank col3\" >&nbsp;</th>\n",
              "      <th class=\"blank col4\" >&nbsp;</th>\n",
              "      <th class=\"blank col5\" >&nbsp;</th>\n",
              "      <th class=\"blank col6\" >&nbsp;</th>\n",
              "      <th class=\"blank col7\" >&nbsp;</th>\n",
              "      <th class=\"blank col8\" >&nbsp;</th>\n",
              "      <th class=\"blank col9\" >&nbsp;</th>\n",
              "    </tr>\n",
              "  </thead>\n",
              "  <tbody>\n",
              "    <tr>\n",
              "      <th id=\"T_c3ce2_level0_row0\" class=\"row_heading level0 row0\" >Pattern</th>\n",
              "      <td id=\"T_c3ce2_row0_col0\" class=\"data row0 col0\" >12</td>\n",
              "      <td id=\"T_c3ce2_row0_col1\" class=\"data row0 col1\" >1.850</td>\n",
              "      <td id=\"T_c3ce2_row0_col2\" class=\"data row0 col2\" >2.500</td>\n",
              "      <td id=\"T_c3ce2_row0_col3\" class=\"data row0 col3\" >3.025</td>\n",
              "      <td id=\"T_c3ce2_row0_col4\" class=\"data row0 col4\" >2.887</td>\n",
              "      <td id=\"T_c3ce2_row0_col5\" class=\"data row0 col5\" >0.684</td>\n",
              "      <td id=\"T_c3ce2_row0_col6\" class=\"data row0 col6\" >0.197</td>\n",
              "      <td id=\"T_c3ce2_row0_col7\" class=\"data row0 col7\" >0.237</td>\n",
              "      <td id=\"T_c3ce2_row0_col8\" class=\"data row0 col8\" >3.250</td>\n",
              "      <td id=\"T_c3ce2_row0_col9\" class=\"data row0 col9\" >4.100</td>\n",
              "    </tr>\n",
              "    <tr>\n",
              "      <th id=\"T_c3ce2_level0_row1\" class=\"row_heading level0 row1\" >Picture</th>\n",
              "      <td id=\"T_c3ce2_row1_col0\" class=\"data row1 col0\" >12</td>\n",
              "      <td id=\"T_c3ce2_row1_col1\" class=\"data row1 col1\" >3.050</td>\n",
              "      <td id=\"T_c3ce2_row1_col2\" class=\"data row1 col2\" >3.612</td>\n",
              "      <td id=\"T_c3ce2_row1_col3\" class=\"data row1 col3\" >4.175</td>\n",
              "      <td id=\"T_c3ce2_row1_col4\" class=\"data row1 col4\" >3.954</td>\n",
              "      <td id=\"T_c3ce2_row1_col5\" class=\"data row1 col5\" >0.608</td>\n",
              "      <td id=\"T_c3ce2_row1_col6\" class=\"data row1 col6\" >0.175</td>\n",
              "      <td id=\"T_c3ce2_row1_col7\" class=\"data row1 col7\" >0.154</td>\n",
              "      <td id=\"T_c3ce2_row1_col8\" class=\"data row1 col8\" >4.287</td>\n",
              "      <td id=\"T_c3ce2_row1_col9\" class=\"data row1 col9\" >5.000</td>\n",
              "    </tr>\n",
              "    <tr>\n",
              "      <th id=\"T_c3ce2_level0_row2\" class=\"row_heading level0 row2\" >Shape</th>\n",
              "      <td id=\"T_c3ce2_row2_col0\" class=\"data row2 col0\" >12</td>\n",
              "      <td id=\"T_c3ce2_row2_col1\" class=\"data row2 col1\" >0.500</td>\n",
              "      <td id=\"T_c3ce2_row2_col2\" class=\"data row2 col2\" >0.938</td>\n",
              "      <td id=\"T_c3ce2_row2_col3\" class=\"data row2 col3\" >1.250</td>\n",
              "      <td id=\"T_c3ce2_row2_col4\" class=\"data row2 col4\" >1.250</td>\n",
              "      <td id=\"T_c3ce2_row2_col5\" class=\"data row2 col5\" >0.489</td>\n",
              "      <td id=\"T_c3ce2_row2_col6\" class=\"data row2 col6\" >0.141</td>\n",
              "      <td id=\"T_c3ce2_row2_col7\" class=\"data row2 col7\" >0.391</td>\n",
              "      <td id=\"T_c3ce2_row2_col8\" class=\"data row2 col8\" >1.562</td>\n",
              "      <td id=\"T_c3ce2_row2_col9\" class=\"data row2 col9\" >2.000</td>\n",
              "    </tr>\n",
              "  </tbody>\n",
              "</table>\n"
            ]
          },
          "metadata": {},
          "execution_count": 30
        }
      ]
    },
    {
      "cell_type": "markdown",
      "source": [
        "## **Assumption Check**\n",
        "\n",
        "The assumptions based on the data analysis done so far need to be validated further before taking appropriate actions."
      ],
      "metadata": {
        "id": "ySQAWx6Rx0Ep"
      }
    },
    {
      "cell_type": "markdown",
      "source": [
        "### **Assumptions 1 - 3**"
      ],
      "metadata": {
        "id": "-u9Sg_YTx2fe"
      }
    },
    {
      "cell_type": "markdown",
      "source": [
        "**Assumption 1:** You have one dependent variable that is measured at the continuous level.\n",
        "\n",
        "> ***Remark.*** The dependent variable was called `time` and is a continuous level.\n",
        "\n",
        "**Assumption 2:** You have one independent variable that consists of two categorical, independent\n",
        "groups.\n",
        "\n",
        "> ***Remark.*** The independent variable is the `stimuli` which is categorized into independent groups: pattern, picture, and shape.\n",
        "\n",
        "**Assumption 3:** You should have independence of observations.\n",
        "\n",
        "> ***Remark.*** Each observation is independent with each other as there is no relationship between the observations in each group of the independent variable or between the groups themselves."
      ],
      "metadata": {
        "id": "nNJHqCgVZeCG"
      }
    },
    {
      "cell_type": "markdown",
      "source": [
        "### **Assumption 4: Outliers**"
      ],
      "metadata": {
        "id": "JMTgs72WyA3R"
      }
    },
    {
      "cell_type": "markdown",
      "source": [
        "There should be no significant outliers in the groups of your independent variable in terms of the dependent variable."
      ],
      "metadata": {
        "id": "_srSfmp3ZqSZ"
      }
    },
    {
      "cell_type": "markdown",
      "source": [
        "####**Outlier Detection Through Box-plot**\n",
        "\n",
        "To visually inspect outliers through box-plots, observe the points beyond the \"whiskers\" of the boxplot."
      ],
      "metadata": {
        "id": "SK6h3_fZxpCJ"
      }
    },
    {
      "cell_type": "code",
      "source": [
        "sns.boxplot(x = 'Stimuli', y = 'Time', hue = 'Stimuli', data = data)"
      ],
      "metadata": {
        "colab": {
          "base_uri": "https://localhost:8080/",
          "height": 466
        },
        "id": "eF_kqlqZbJ46",
        "outputId": "22a7ffa4-ac8c-4ad3-a67f-112c67404c40"
      },
      "execution_count": null,
      "outputs": [
        {
          "output_type": "execute_result",
          "data": {
            "text/plain": [
              "<Axes: xlabel='Stimuli', ylabel='Time'>"
            ]
          },
          "metadata": {},
          "execution_count": 31
        },
        {
          "output_type": "display_data",
          "data": {
            "text/plain": [
              "<Figure size 640x480 with 1 Axes>"
            ],
            "image/png": "[encoded data removed]"
          },
          "metadata": {}
        }
      ]
    },
    {
      "cell_type": "markdown",
      "source": [
        "####**Outlier Detection Through z-score**\n",
        "\n",
        "To identify outliers using the z-score, we can set a threshold value by 3. Data points with a z-score greater than 3 or less than -3 can be considered an *extreme* outlier."
      ],
      "metadata": {
        "id": "cnV7_a0VxdlH"
      }
    },
    {
      "cell_type": "code",
      "source": [
        "from scipy.stats import zscore\n",
        "\n",
        "def identify_outliers(group):\n",
        "    z_scores = zscore(group['Time'])\n",
        "    outliers = (z_scores > 3) | (z_scores < -3)\n",
        "    return group[outliers]\n",
        "\n",
        "outliers = data.groupby(['Stimuli']).apply(identify_outliers)\n",
        "\n",
        "# display the styled df\n",
        "outliers.style"
      ],
      "metadata": {
        "colab": {
          "base_uri": "https://localhost:8080/",
          "height": 81
        },
        "id": "hL5roXDSxx5P",
        "outputId": "a1ecfd3f-c143-4d3d-b088-7db6511adb85"
      },
      "execution_count": null,
      "outputs": [
        {
          "output_type": "execute_result",
          "data": {
            "text/plain": [
              "<pandas.io.formats.style.Styler at 0x7a9edaa1ad10>"
            ],
            "text/html": [
              "<style type=\"text/css\">\n",
              "</style>\n",
              "<table id=\"T_4c7ad\" class=\"dataframe\">\n",
              "  <thead>\n",
              "    <tr>\n",
              "      <th class=\"blank\" >&nbsp;</th>\n",
              "      <th class=\"blank level0\" >&nbsp;</th>\n",
              "      <th id=\"T_4c7ad_level0_col0\" class=\"col_heading level0 col0\" >ID</th>\n",
              "      <th id=\"T_4c7ad_level0_col1\" class=\"col_heading level0 col1\" >Stimuli</th>\n",
              "      <th id=\"T_4c7ad_level0_col2\" class=\"col_heading level0 col2\" >Time</th>\n",
              "    </tr>\n",
              "    <tr>\n",
              "      <th class=\"index_name level0\" >Stimuli</th>\n",
              "      <th class=\"index_name level1\" >&nbsp;</th>\n",
              "      <th class=\"blank col0\" >&nbsp;</th>\n",
              "      <th class=\"blank col1\" >&nbsp;</th>\n",
              "      <th class=\"blank col2\" >&nbsp;</th>\n",
              "    </tr>\n",
              "  </thead>\n",
              "  <tbody>\n",
              "  </tbody>\n",
              "</table>\n"
            ]
          },
          "metadata": {},
          "execution_count": 33
        }
      ]
    },
    {
      "cell_type": "markdown",
      "source": [
        "\n",
        "> ***Remark.*** There were no extreme outliers."
      ],
      "metadata": {
        "id": "TOVWChsfwyrb"
      }
    },
    {
      "cell_type": "markdown",
      "source": [
        "### **Assumption 5: Normality**\n",
        "\n",
        "Your **dependent variable** should be **approximately normally distributed for each combination of the groups of your two factors** (i.e., your within-subjects factor and between-subjects factor)."
      ],
      "metadata": {
        "id": "BN4oJCn2yFww"
      }
    },
    {
      "cell_type": "code",
      "source": [
        "from scipy.stats import shapiro\n",
        "\n",
        "# checking the normality assumption for each group using Shapiro-Wilk test\n",
        "group_0 = data[data['Stimuli'] == 'Pattern']['Time']\n",
        "group_1 = data[data['Stimuli'] == 'Picture']['Time']\n",
        "group_2 = data[data['Stimuli'] == 'Shape']['Time']\n",
        "\n",
        "shapiro_0 = stats.shapiro(group_0)\n",
        "shapiro_1 = stats.shapiro(group_1)\n",
        "shapiro_2 = stats.shapiro(group_2)\n",
        "\n",
        "# creating a table for the Shapiro-Wilk test results\n",
        "results = pd.DataFrame({'Stimuli': ['Pattern', 'Picture', 'Shape'],\n",
        "                        'W-statistic': [shapiro_0.statistic, shapiro_1.statistic, shapiro_2.statistic],\n",
        "                       'p-value': [shapiro_0.pvalue, shapiro_1.pvalue, shapiro_2.pvalue]})\n",
        "\n",
        "print(\"\\nTest of Normality (Shapiro-Wilk)\")\n",
        "results.style.set_precision(3)"
      ],
      "metadata": {
        "colab": {
          "base_uri": "https://localhost:8080/",
          "height": 178
        },
        "id": "JaSb3SRv9bJr",
        "outputId": "caacabcb-c566-45c8-cd2c-32a694a22627"
      },
      "execution_count": null,
      "outputs": [
        {
          "output_type": "stream",
          "name": "stdout",
          "text": [
            "\n",
            "Test of Normality (Shapiro-Wilk)\n"
          ]
        },
        {
          "output_type": "execute_result",
          "data": {
            "text/plain": [
              "<pandas.io.formats.style.Styler at 0x7a9ed87b01c0>"
            ],
            "text/html": [
              "<style type=\"text/css\">\n",
              "</style>\n",
              "<table id=\"T_b56b9\" class=\"dataframe\">\n",
              "  <thead>\n",
              "    <tr>\n",
              "      <th class=\"blank level0\" >&nbsp;</th>\n",
              "      <th id=\"T_b56b9_level0_col0\" class=\"col_heading level0 col0\" >Stimuli</th>\n",
              "      <th id=\"T_b56b9_level0_col1\" class=\"col_heading level0 col1\" >W-statistic</th>\n",
              "      <th id=\"T_b56b9_level0_col2\" class=\"col_heading level0 col2\" >p-value</th>\n",
              "    </tr>\n",
              "  </thead>\n",
              "  <tbody>\n",
              "    <tr>\n",
              "      <th id=\"T_b56b9_level0_row0\" class=\"row_heading level0 row0\" >0</th>\n",
              "      <td id=\"T_b56b9_row0_col0\" class=\"data row0 col0\" >Pattern</td>\n",
              "      <td id=\"T_b56b9_row0_col1\" class=\"data row0 col1\" >0.950</td>\n",
              "      <td id=\"T_b56b9_row0_col2\" class=\"data row0 col2\" >0.638</td>\n",
              "    </tr>\n",
              "    <tr>\n",
              "      <th id=\"T_b56b9_level0_row1\" class=\"row_heading level0 row1\" >1</th>\n",
              "      <td id=\"T_b56b9_row1_col0\" class=\"data row1 col0\" >Picture</td>\n",
              "      <td id=\"T_b56b9_row1_col1\" class=\"data row1 col1\" >0.915</td>\n",
              "      <td id=\"T_b56b9_row1_col2\" class=\"data row1 col2\" >0.248</td>\n",
              "    </tr>\n",
              "    <tr>\n",
              "      <th id=\"T_b56b9_level0_row2\" class=\"row_heading level0 row2\" >2</th>\n",
              "      <td id=\"T_b56b9_row2_col0\" class=\"data row2 col0\" >Shape</td>\n",
              "      <td id=\"T_b56b9_row2_col1\" class=\"data row2 col1\" >0.944</td>\n",
              "      <td id=\"T_b56b9_row2_col2\" class=\"data row2 col2\" >0.548</td>\n",
              "    </tr>\n",
              "  </tbody>\n",
              "</table>\n"
            ]
          },
          "metadata": {},
          "execution_count": 35
        }
      ]
    },
    {
      "cell_type": "markdown",
      "source": [
        "\n",
        "> The data was normally distributed (p \\> 0.05), as assessed by Shapiro-Wilk's test of normality."
      ],
      "metadata": {
        "id": "2dAN1EAj_qs-"
      }
    },
    {
      "cell_type": "markdown",
      "source": [
        "### **Assumption 6: Homogeneity of Variance**\n",
        "\n",
        "There needs to be **homogeneity of variances for each combination of the groups of your two factors** (i.e., the variance of the dependent variable is equal in each group of your independent variable)."
      ],
      "metadata": {
        "id": "6s3BpnfzyJw1"
      }
    },
    {
      "cell_type": "code",
      "source": [
        "# perform levene test\n",
        "lt_results = stats.levene(group_0, group_1, group_2, center = 'mean')\n",
        "\n",
        "# create a dictionary with the results\n",
        "results = {\n",
        "    'F': lt_results.statistic,\n",
        "    'df1': [3 - 1],\n",
        "    'df2': [len(group_0) + len(group_1) + len(group_2) - 3],\n",
        "    'p': lt_results.pvalue\n",
        "}\n",
        "# create a dataframe with the results\n",
        "results_lt = pd.DataFrame(results)\n",
        "\n",
        "# print and style the dataframe\n",
        "print(\"\\n Test of Equality of Variances\")\n",
        "results_lt.style.set_precision(3)"
      ],
      "metadata": {
        "colab": {
          "base_uri": "https://localhost:8080/",
          "height": 115
        },
        "id": "S1_cfElaBq6K",
        "outputId": "4e5db774-83b4-4e8a-ddbf-7fad09c39b70"
      },
      "execution_count": null,
      "outputs": [
        {
          "output_type": "stream",
          "name": "stdout",
          "text": [
            "\n",
            " Test of Equality of Variances\n"
          ]
        },
        {
          "output_type": "execute_result",
          "data": {
            "text/plain": [
              "<pandas.io.formats.style.Styler at 0x7a9ed8441690>"
            ],
            "text/html": [
              "<style type=\"text/css\">\n",
              "</style>\n",
              "<table id=\"T_32455\" class=\"dataframe\">\n",
              "  <thead>\n",
              "    <tr>\n",
              "      <th class=\"blank level0\" >&nbsp;</th>\n",
              "      <th id=\"T_32455_level0_col0\" class=\"col_heading level0 col0\" >F</th>\n",
              "      <th id=\"T_32455_level0_col1\" class=\"col_heading level0 col1\" >df1</th>\n",
              "      <th id=\"T_32455_level0_col2\" class=\"col_heading level0 col2\" >df2</th>\n",
              "      <th id=\"T_32455_level0_col3\" class=\"col_heading level0 col3\" >p</th>\n",
              "    </tr>\n",
              "  </thead>\n",
              "  <tbody>\n",
              "    <tr>\n",
              "      <th id=\"T_32455_level0_row0\" class=\"row_heading level0 row0\" >0</th>\n",
              "      <td id=\"T_32455_row0_col0\" class=\"data row0 col0\" >0.774</td>\n",
              "      <td id=\"T_32455_row0_col1\" class=\"data row0 col1\" >2</td>\n",
              "      <td id=\"T_32455_row0_col2\" class=\"data row0 col2\" >33</td>\n",
              "      <td id=\"T_32455_row0_col3\" class=\"data row0 col3\" >0.469</td>\n",
              "    </tr>\n",
              "  </tbody>\n",
              "</table>\n"
            ]
          },
          "metadata": {},
          "execution_count": 41
        }
      ]
    },
    {
      "cell_type": "markdown",
      "source": [
        "\n",
        "\n",
        "> There was homogeneity of variances for all cells (p \\> 0.05), as assessed by Levene's test of homogeneity of variance.\n",
        "\n"
      ],
      "metadata": {
        "id": "O6kBUxQaCXmN"
      }
    },
    {
      "cell_type": "markdown",
      "source": [
        "## **ANOVA Testing and Computation**"
      ],
      "metadata": {
        "id": "-RdBBpQUchSv"
      }
    },
    {
      "cell_type": "code",
      "source": [
        "from statsmodels.formula.api import ols\n",
        "\n",
        "def anova_table(aov):\n",
        "    aov['mean_sq'] = aov[:]['sum_sq']/aov[:]['df']\n",
        "    aov['p_eta_sq'] = aov[:-1]['sum_sq']/sum(aov['sum_sq'])\n",
        "\n",
        "    cols = ['sum_sq', 'df', 'mean_sq', 'F', 'PR(>F)', 'p_eta_sq']\n",
        "    aov = aov[cols]\n",
        "    return aov\n",
        "\n",
        "model = ols('Time ~ Stimuli', data = data).fit()\n",
        "aov_table = sm.stats.anova_lm(model, typ = 2)\n",
        "\n",
        "# display the styled df\n",
        "print(\"\\n ANOVA\")\n",
        "anova_table(aov_table).style.set_precision(3)"
      ],
      "metadata": {
        "colab": {
          "base_uri": "https://localhost:8080/",
          "height": 147
        },
        "id": "_xAbxgfsyhGU",
        "outputId": "c59de5c2-ae19-4737-c65c-b5c9e3eff28b"
      },
      "execution_count": 58,
      "outputs": [
        {
          "output_type": "stream",
          "name": "stdout",
          "text": [
            "\n",
            " ANOVA\n"
          ]
        },
        {
          "output_type": "execute_result",
          "data": {
            "text/plain": [
              "<pandas.io.formats.style.Styler at 0x7a9ed85be920>"
            ],
            "text/html": [
              "<style type=\"text/css\">\n",
              "</style>\n",
              "<table id=\"T_632fd\" class=\"dataframe\">\n",
              "  <thead>\n",
              "    <tr>\n",
              "      <th class=\"blank level0\" >&nbsp;</th>\n",
              "      <th id=\"T_632fd_level0_col0\" class=\"col_heading level0 col0\" >sum_sq</th>\n",
              "      <th id=\"T_632fd_level0_col1\" class=\"col_heading level0 col1\" >df</th>\n",
              "      <th id=\"T_632fd_level0_col2\" class=\"col_heading level0 col2\" >mean_sq</th>\n",
              "      <th id=\"T_632fd_level0_col3\" class=\"col_heading level0 col3\" >F</th>\n",
              "      <th id=\"T_632fd_level0_col4\" class=\"col_heading level0 col4\" >PR(>F)</th>\n",
              "      <th id=\"T_632fd_level0_col5\" class=\"col_heading level0 col5\" >p_eta_sq</th>\n",
              "    </tr>\n",
              "  </thead>\n",
              "  <tbody>\n",
              "    <tr>\n",
              "      <th id=\"T_632fd_level0_row0\" class=\"row_heading level0 row0\" >Stimuli</th>\n",
              "      <td id=\"T_632fd_row0_col0\" class=\"data row0 col0\" >44.527</td>\n",
              "      <td id=\"T_632fd_row0_col1\" class=\"data row0 col1\" >2.000</td>\n",
              "      <td id=\"T_632fd_row0_col2\" class=\"data row0 col2\" >22.263</td>\n",
              "      <td id=\"T_632fd_row0_col3\" class=\"data row0 col3\" >62.089</td>\n",
              "      <td id=\"T_632fd_row0_col4\" class=\"data row0 col4\" >0.000</td>\n",
              "      <td id=\"T_632fd_row0_col5\" class=\"data row0 col5\" >0.790</td>\n",
              "    </tr>\n",
              "    <tr>\n",
              "      <th id=\"T_632fd_level0_row1\" class=\"row_heading level0 row1\" >Residual</th>\n",
              "      <td id=\"T_632fd_row1_col0\" class=\"data row1 col0\" >11.833</td>\n",
              "      <td id=\"T_632fd_row1_col1\" class=\"data row1 col1\" >33.000</td>\n",
              "      <td id=\"T_632fd_row1_col2\" class=\"data row1 col2\" >0.359</td>\n",
              "      <td id=\"T_632fd_row1_col3\" class=\"data row1 col3\" >nan</td>\n",
              "      <td id=\"T_632fd_row1_col4\" class=\"data row1 col4\" >nan</td>\n",
              "      <td id=\"T_632fd_row1_col5\" class=\"data row1 col5\" >nan</td>\n",
              "    </tr>\n",
              "  </tbody>\n",
              "</table>\n"
            ]
          },
          "metadata": {},
          "execution_count": 58
        }
      ]
    },
    {
      "cell_type": "markdown",
      "source": [
        "**Post-Hoc Testing**\n",
        "\n",
        "By conducting post-hoc tests or planned comparisons it allows one to see which group(s) significantly differ from each other."
      ],
      "metadata": {
        "id": "s5piQWPnzWOh"
      }
    },
    {
      "cell_type": "code",
      "source": [
        "import statsmodels.stats.multicomp as smm\n",
        "\n",
        "# perform tukey's HSD test\n",
        "one_tukey_smm = smm.pairwise_tukeyhsd(endog=data['Time'], groups=data['Stimuli'])\n",
        "\n",
        "# convert the results to a df\n",
        "tukey_df = pd.DataFrame(data=one_tukey_smm._results_table.data[1:], columns\n",
        " =one_tukey_smm._results_table.data[0])\n",
        "\n",
        "# display the styled df\n",
        "tukey_df.style.set_precision(3)"
      ],
      "metadata": {
        "colab": {
          "base_uri": "https://localhost:8080/",
          "height": 143
        },
        "id": "LZm7kWT8zcT1",
        "outputId": "73566e6d-9087-46bd-cd21-44739118a840"
      },
      "execution_count": 55,
      "outputs": [
        {
          "output_type": "execute_result",
          "data": {
            "text/plain": [
              "<pandas.io.formats.style.Styler at 0x7a9ed85bea70>"
            ],
            "text/html": [
              "<style type=\"text/css\">\n",
              "</style>\n",
              "<table id=\"T_5f725\" class=\"dataframe\">\n",
              "  <thead>\n",
              "    <tr>\n",
              "      <th class=\"blank level0\" >&nbsp;</th>\n",
              "      <th id=\"T_5f725_level0_col0\" class=\"col_heading level0 col0\" >group1</th>\n",
              "      <th id=\"T_5f725_level0_col1\" class=\"col_heading level0 col1\" >group2</th>\n",
              "      <th id=\"T_5f725_level0_col2\" class=\"col_heading level0 col2\" >meandiff</th>\n",
              "      <th id=\"T_5f725_level0_col3\" class=\"col_heading level0 col3\" >p-adj</th>\n",
              "      <th id=\"T_5f725_level0_col4\" class=\"col_heading level0 col4\" >lower</th>\n",
              "      <th id=\"T_5f725_level0_col5\" class=\"col_heading level0 col5\" >upper</th>\n",
              "      <th id=\"T_5f725_level0_col6\" class=\"col_heading level0 col6\" >reject</th>\n",
              "    </tr>\n",
              "  </thead>\n",
              "  <tbody>\n",
              "    <tr>\n",
              "      <th id=\"T_5f725_level0_row0\" class=\"row_heading level0 row0\" >0</th>\n",
              "      <td id=\"T_5f725_row0_col0\" class=\"data row0 col0\" >Pattern</td>\n",
              "      <td id=\"T_5f725_row0_col1\" class=\"data row0 col1\" >Picture</td>\n",
              "      <td id=\"T_5f725_row0_col2\" class=\"data row0 col2\" >1.067</td>\n",
              "      <td id=\"T_5f725_row0_col3\" class=\"data row0 col3\" >0.000</td>\n",
              "      <td id=\"T_5f725_row0_col4\" class=\"data row0 col4\" >0.467</td>\n",
              "      <td id=\"T_5f725_row0_col5\" class=\"data row0 col5\" >1.667</td>\n",
              "      <td id=\"T_5f725_row0_col6\" class=\"data row0 col6\" >True</td>\n",
              "    </tr>\n",
              "    <tr>\n",
              "      <th id=\"T_5f725_level0_row1\" class=\"row_heading level0 row1\" >1</th>\n",
              "      <td id=\"T_5f725_row1_col0\" class=\"data row1 col0\" >Pattern</td>\n",
              "      <td id=\"T_5f725_row1_col1\" class=\"data row1 col1\" >Shape</td>\n",
              "      <td id=\"T_5f725_row1_col2\" class=\"data row1 col2\" >-1.637</td>\n",
              "      <td id=\"T_5f725_row1_col3\" class=\"data row1 col3\" >0.000</td>\n",
              "      <td id=\"T_5f725_row1_col4\" class=\"data row1 col4\" >-2.237</td>\n",
              "      <td id=\"T_5f725_row1_col5\" class=\"data row1 col5\" >-1.038</td>\n",
              "      <td id=\"T_5f725_row1_col6\" class=\"data row1 col6\" >True</td>\n",
              "    </tr>\n",
              "    <tr>\n",
              "      <th id=\"T_5f725_level0_row2\" class=\"row_heading level0 row2\" >2</th>\n",
              "      <td id=\"T_5f725_row2_col0\" class=\"data row2 col0\" >Picture</td>\n",
              "      <td id=\"T_5f725_row2_col1\" class=\"data row2 col1\" >Shape</td>\n",
              "      <td id=\"T_5f725_row2_col2\" class=\"data row2 col2\" >-2.704</td>\n",
              "      <td id=\"T_5f725_row2_col3\" class=\"data row2 col3\" >0.000</td>\n",
              "      <td id=\"T_5f725_row2_col4\" class=\"data row2 col4\" >-3.304</td>\n",
              "      <td id=\"T_5f725_row2_col5\" class=\"data row2 col5\" >-2.104</td>\n",
              "      <td id=\"T_5f725_row2_col6\" class=\"data row2 col6\" >True</td>\n",
              "    </tr>\n",
              "  </tbody>\n",
              "</table>\n"
            ]
          },
          "metadata": {},
          "execution_count": 55
        }
      ]
    },
    {
      "cell_type": "markdown",
      "source": [
        "\n",
        "\n",
        "> Using Tukey HSD, there a significant difference in time spent between the three treatment conditions: shapes, patterns, and pictures.\n",
        "\n"
      ],
      "metadata": {
        "id": "LauuBziU1yW1"
      }
    },
    {
      "cell_type": "markdown",
      "source": [
        "## **Reporting**"
      ],
      "metadata": {
        "id": "9CP3cgBrcl7q"
      }
    },
    {
      "cell_type": "markdown",
      "source": [
        "A one-way ANOVA was conducted to evaluate if there is a significant difference in time spent between the three treatment conditions. Stimuli were classified into three groups: shapes (n = 12), patterns (n = 12),and pictures (n = 12).\n",
        "\n",
        "There were no outliers, as assessed by visual inspection of boxplot; data was normally distributed for each group, as assessed by Shapiro-Wilk test (p > .05); and there was homogeneity of variances, as assessed by Levene's test of homogeneity of variances (p = .469). Data is presented as mean ± standard deviation.\n",
        "\n",
        "The number of seconds the rats spent in chamber was statistically significantly different between each stimuli, F(2, 33) = 62.089, p < 0.001, with a small effect size (η²p = 0.26)."
      ],
      "metadata": {
        "id": "mgbmAv9r2XEH"
      }
    }
  ]
}