{
  "nbformat": 4,
  "nbformat_minor": 0,
  "metadata": {
    "colab": {
      "provenance": [],
      "collapsed_sections": [
        "-u9Sg_YTx2fe",
        "JMTgs72WyA3R",
        "BN4oJCn2yFww",
        "BHKz0mDryNGK"
      ],
      "authorship_tag": "ABX9TyO5VaOSKGYuFeTbIsZ3Nkjh",
      "include_colab_link": true
    },
    "kernelspec": {
      "name": "python3",
      "display_name": "Python 3"
    },
    "language_info": {
      "name": "python"
    }
  },
  "cells": [
    {
      "cell_type": "markdown",
      "metadata": {
        "id": "view-in-github",
        "colab_type": "text"
      },
      "source": [
        "<a href=\"https://colab.research.google.com/github/kofibeans/APM1111---SA2/blob/main/AQUINO_SA2_3_Car_Mileage.ipynb\" target=\"_parent\"><img src=\"https://colab.research.google.com/assets/colab-badge.svg\" alt=\"Open In Colab\"/></a>"
      ]
    },
    {
      "cell_type": "markdown",
      "source": [
        "# **Car's Mileage: Repeated Measures ANOVA**\n",
        "\n",
        "**Data Description**\n",
        "\n",
        "Researchers are curious to know if four different engine oils lead to different mileage of cars. To test this, they measured the mileage of 5 cars using four different engine oils. Since each car’s mileage is measured by applying each of the four-engine oils one by one they use a repeated-measures ANOVA to check if the mean reaction time differs between engine oils.\n",
        "\n",
        "They then analyze it using AnovaRM to generate the results. Below is their initial code.\n",
        "\n",
        "```\n",
        "import numpy as np\n",
        "import pandas as pd\n",
        "from statsmodels.stats.anova import AnovaRM\n",
        "  \n",
        "# Create the data\n",
        "dataframe = pd.DataFrame({'Cars': np.repeat([1, 2, 3, 4, 5], 4),\n",
        "                          'Oil': np.tile([1, 2, 3, 4], 5),\n",
        "                          'Mileage': [36, 38, 30, 29,\n",
        "                                      34, 38, 30, 29,\n",
        "                                      34, 28, 38, 32,\n",
        "                                      38, 34, 20, 44,\n",
        "                                      26, 28, 34, 50]})\n",
        "\n",
        "```"
      ],
      "metadata": {
        "id": "yjDW6BA9p3UU"
      }
    },
    {
      "cell_type": "markdown",
      "source": [
        "**Directions**\n",
        "1.\tProvide a full analysis using repeated-measures ANOVA to determine if there is a difference in mileage of cars between four engine oils.\n",
        "2.\tCheck the assumptions underlying the said ANOVA type.\n",
        "3.\tMake a report in APA format, including the checking of the assumptions.\n",
        "4.\tProvide a Github link to your file answering this problem. (5 points will be automatically deducted if without a Github link.)\n",
        "\n",
        "*Note*:\n",
        "*\tUse Jupyter Notebook or R Studio with the proper formatting of your markdown and code. You may check your results using JASP.\n",
        "*\tUpload a Word file containing your Github link to your file or upload your R output or Python output using the tool below.\n",
        "*\tBe sure that your outputs/files already contain the results of your analysis and I don't have to run your code to check the output results. (Minus 5 if I still have to run your code to check your outputs.)\n"
      ],
      "metadata": {
        "id": "bEeSYaEoqI6O"
      }
    },
    {
      "cell_type": "markdown",
      "source": [
        "## **Exploratory Data Analysis**"
      ],
      "metadata": {
        "id": "uwRczKzawVQL"
      }
    },
    {
      "cell_type": "markdown",
      "source": [
        "### **Environment Set-up**\n",
        "\n",
        "The following code is written in Python. The libraries are pre-written functionality to perform necessary tasks."
      ],
      "metadata": {
        "id": "EP7bpbJnw5R0"
      }
    },
    {
      "cell_type": "code",
      "source": [
        "# import libraries\n",
        "\n",
        "# general setup and libraries\n",
        "import io\n",
        "import os  # os-related functionalities\n",
        "import numpy as np  # numerical computation\n",
        "import pandas as pd  # data manipulation and statistical analysis\n",
        "import pingouin as pg\n",
        "\n",
        "# data visualization\n",
        "import matplotlib.pyplot as plt  # plotting library\n",
        "import seaborn as sns  # data visualization based on matplotlib\n",
        "import pprint\n",
        "import IPython\n",
        "from IPython.display import HTML, display # pretty printing of dataframes in Jupyter notebook\n",
        "\n",
        "# statistical models and testing\n",
        "import statsmodels.formula.api as smf  # statistical models using formulas\n",
        "import statsmodels.api as sm  # statistical models and hypothesis testing\n",
        "from statsmodels.stats.anova import AnovaRM  # repeated measures ANOVA\n",
        "from scipy import stats  # scientific computing and statistical functions\n",
        "\n",
        "# misc libraries\n",
        "import random\n",
        "import time\n",
        "\n",
        "# ignore warnings\n",
        "import warnings\n",
        "warnings.filterwarnings('ignore')\n",
        "print('-'*25)"
      ],
      "metadata": {
        "colab": {
          "base_uri": "https://localhost:8080/"
        },
        "id": "V2OIYKTF0rCz",
        "outputId": "29f09203-2add-4fe3-a0c5-8ab587caa8fc"
      },
      "execution_count": 31,
      "outputs": [
        {
          "output_type": "stream",
          "name": "stdout",
          "text": [
            "-------------------------\n"
          ]
        }
      ]
    },
    {
      "cell_type": "markdown",
      "source": [
        "### **Data Preparation**"
      ],
      "metadata": {
        "id": "qYvYbI_bxamq"
      }
    },
    {
      "cell_type": "markdown",
      "source": [
        "#### **Import Data**"
      ],
      "metadata": {
        "id": "-Z2a5PgTxg1s"
      }
    },
    {
      "cell_type": "code",
      "source": [
        "path = 'https://raw.githubusercontent.com/kofibeans/APM1111---SA2/main/car_mileage.csv'\n",
        "\n",
        "def load(path, info = True):\n",
        "  if len(path.split(\".csv\")) > 1:\n",
        "    read = pd.read_csv(path)\n",
        "  elif len(path.split(\".xlsx\")) > 1:\n",
        "    read = pd.read_excel(path)\n",
        "\n",
        "  if info:\n",
        "    if len(read) > 0:\n",
        "      print(\"# Dimensions\")\n",
        "      print(\"Observation:\", read.shape[0], \"Column:\", read.shape[1], \"\\n\")\n",
        "      print(\"# Dtypes\")\n",
        "      if len(read.select_dtypes(\"object\").columns) > 0:\n",
        "        print(\"-- Object Variables: \",\n",
        "        len(read.select_dtypes(\"object\").columns), \" \",\n",
        "        read.select_dtypes(\"object\").columns.tolist(), \"\")\n",
        "\n",
        "      if len(read.select_dtypes(\"integer\").columns) > 0:\n",
        "        print(\"-- Integer Variables: \",\n",
        "        len(read.select_dtypes(\"integer\").columns), \" \",\n",
        "        read.select_dtypes(\"integer\").columns.tolist(), \"\")\n",
        "\n",
        "      if len(read.select_dtypes(\"float\").columns) > 0:\n",
        "        print(\"-- Float Variables:\",\n",
        "        len(read.select_dtypes(\"float\").columns), \" \",\n",
        "        read.select_dtypes(\"float\").columns.tolist(), \"\")\n",
        "\n",
        "      if len(read.select_dtypes(\"bool\").columns) > 0:\n",
        "         print(\"-- Bool Variables:\",\n",
        "        len(read.select_dtypes(\"bool\").columns), \" \",\n",
        "        read.select_dtypes(\"bool\").columns.tolist(), \"\")\n",
        "\n",
        "      print(\"\\n# Missing Value\")\n",
        "      print(\"-- Are there any missing values? \", np.where(read.isnull().values.any() == False, \"[No missing value!]\", \"[Data includes missing value!]\"), \"\\n\")\n",
        "      buf = io.StringIO()\n",
        "      read.info(buf=buf)\n",
        "      info = buf.getvalue().split('\\n')[-2].split(\":\")[1].strip()\n",
        "      print(\"# Memory Usage: \", info, \"\\n\")\n",
        "\n",
        "    else:\n",
        "      print(\"# Data did not import!\")\n",
        "\n",
        "  return read\n",
        "\n",
        "data = load(path, info = True)"
      ],
      "metadata": {
        "id": "GXEcdPLg21Ra",
        "colab": {
          "base_uri": "https://localhost:8080/"
        },
        "outputId": "47c0e584-7bdb-471b-f58e-0681b4d53153"
      },
      "execution_count": 2,
      "outputs": [
        {
          "output_type": "stream",
          "name": "stdout",
          "text": [
            "# Dimensions\n",
            "Observation: 20 Column: 4 \n",
            "\n",
            "# Dtypes\n",
            "-- Integer Variables:  4   ['Unnamed: 0', 'Cars', 'Oil', 'Mileage'] \n",
            "\n",
            "# Missing Value\n",
            "-- Are there any missing values?  [No missing value!] \n",
            "\n",
            "# Memory Usage:  768.0 bytes \n",
            "\n"
          ]
        }
      ]
    },
    {
      "cell_type": "code",
      "source": [
        "# drop column\n",
        "data.drop(data.columns[[0]], axis=1, inplace=True)"
      ],
      "metadata": {
        "id": "v3kCQ1Cg_QD4"
      },
      "execution_count": 3,
      "outputs": []
    },
    {
      "cell_type": "markdown",
      "source": [
        "### **Descriptive Statistics**"
      ],
      "metadata": {
        "id": "OZR_yCUDxwOd"
      }
    },
    {
      "cell_type": "code",
      "source": [
        "des_stat = data.describe(include = 'all')\n",
        "des_stat.style.set_precision(2)"
      ],
      "metadata": {
        "colab": {
          "base_uri": "https://localhost:8080/",
          "height": 300
        },
        "id": "d4f6bT6JAVnF",
        "outputId": "7221e53b-73cd-40e3-e0bb-a7cf2ae400b3"
      },
      "execution_count": 17,
      "outputs": [
        {
          "output_type": "execute_result",
          "data": {
            "text/plain": [
              "<pandas.io.formats.style.Styler at 0x7f01ea496170>"
            ],
            "text/html": [
              "<style type=\"text/css\">\n",
              "</style>\n",
              "<table id=\"T_5ea50\" class=\"dataframe\">\n",
              "  <thead>\n",
              "    <tr>\n",
              "      <th class=\"blank level0\" >&nbsp;</th>\n",
              "      <th id=\"T_5ea50_level0_col0\" class=\"col_heading level0 col0\" >Cars</th>\n",
              "      <th id=\"T_5ea50_level0_col1\" class=\"col_heading level0 col1\" >Oil</th>\n",
              "      <th id=\"T_5ea50_level0_col2\" class=\"col_heading level0 col2\" >Mileage</th>\n",
              "    </tr>\n",
              "  </thead>\n",
              "  <tbody>\n",
              "    <tr>\n",
              "      <th id=\"T_5ea50_level0_row0\" class=\"row_heading level0 row0\" >count</th>\n",
              "      <td id=\"T_5ea50_row0_col0\" class=\"data row0 col0\" >20.00</td>\n",
              "      <td id=\"T_5ea50_row0_col1\" class=\"data row0 col1\" >20.00</td>\n",
              "      <td id=\"T_5ea50_row0_col2\" class=\"data row0 col2\" >20.00</td>\n",
              "    </tr>\n",
              "    <tr>\n",
              "      <th id=\"T_5ea50_level0_row1\" class=\"row_heading level0 row1\" >mean</th>\n",
              "      <td id=\"T_5ea50_row1_col0\" class=\"data row1 col0\" >3.00</td>\n",
              "      <td id=\"T_5ea50_row1_col1\" class=\"data row1 col1\" >2.50</td>\n",
              "      <td id=\"T_5ea50_row1_col2\" class=\"data row1 col2\" >33.50</td>\n",
              "    </tr>\n",
              "    <tr>\n",
              "      <th id=\"T_5ea50_level0_row2\" class=\"row_heading level0 row2\" >std</th>\n",
              "      <td id=\"T_5ea50_row2_col0\" class=\"data row2 col0\" >1.45</td>\n",
              "      <td id=\"T_5ea50_row2_col1\" class=\"data row2 col1\" >1.15</td>\n",
              "      <td id=\"T_5ea50_row2_col2\" class=\"data row2 col2\" >6.64</td>\n",
              "    </tr>\n",
              "    <tr>\n",
              "      <th id=\"T_5ea50_level0_row3\" class=\"row_heading level0 row3\" >min</th>\n",
              "      <td id=\"T_5ea50_row3_col0\" class=\"data row3 col0\" >1.00</td>\n",
              "      <td id=\"T_5ea50_row3_col1\" class=\"data row3 col1\" >1.00</td>\n",
              "      <td id=\"T_5ea50_row3_col2\" class=\"data row3 col2\" >20.00</td>\n",
              "    </tr>\n",
              "    <tr>\n",
              "      <th id=\"T_5ea50_level0_row4\" class=\"row_heading level0 row4\" >25%</th>\n",
              "      <td id=\"T_5ea50_row4_col0\" class=\"data row4 col0\" >2.00</td>\n",
              "      <td id=\"T_5ea50_row4_col1\" class=\"data row4 col1\" >1.75</td>\n",
              "      <td id=\"T_5ea50_row4_col2\" class=\"data row4 col2\" >29.00</td>\n",
              "    </tr>\n",
              "    <tr>\n",
              "      <th id=\"T_5ea50_level0_row5\" class=\"row_heading level0 row5\" >50%</th>\n",
              "      <td id=\"T_5ea50_row5_col0\" class=\"data row5 col0\" >3.00</td>\n",
              "      <td id=\"T_5ea50_row5_col1\" class=\"data row5 col1\" >2.50</td>\n",
              "      <td id=\"T_5ea50_row5_col2\" class=\"data row5 col2\" >34.00</td>\n",
              "    </tr>\n",
              "    <tr>\n",
              "      <th id=\"T_5ea50_level0_row6\" class=\"row_heading level0 row6\" >75%</th>\n",
              "      <td id=\"T_5ea50_row6_col0\" class=\"data row6 col0\" >4.00</td>\n",
              "      <td id=\"T_5ea50_row6_col1\" class=\"data row6 col1\" >3.25</td>\n",
              "      <td id=\"T_5ea50_row6_col2\" class=\"data row6 col2\" >38.00</td>\n",
              "    </tr>\n",
              "    <tr>\n",
              "      <th id=\"T_5ea50_level0_row7\" class=\"row_heading level0 row7\" >max</th>\n",
              "      <td id=\"T_5ea50_row7_col0\" class=\"data row7 col0\" >5.00</td>\n",
              "      <td id=\"T_5ea50_row7_col1\" class=\"data row7 col1\" >4.00</td>\n",
              "      <td id=\"T_5ea50_row7_col2\" class=\"data row7 col2\" >50.00</td>\n",
              "    </tr>\n",
              "  </tbody>\n",
              "</table>\n"
            ]
          },
          "metadata": {},
          "execution_count": 17
        }
      ]
    },
    {
      "cell_type": "markdown",
      "source": [
        "## **Assumption Check**\n",
        "\n",
        "The assumptions based on the data analysis done so far need to be validated further before taking appropriate actions."
      ],
      "metadata": {
        "id": "ySQAWx6Rx0Ep"
      }
    },
    {
      "cell_type": "markdown",
      "source": [
        "### **Assumptions 1 - 2**"
      ],
      "metadata": {
        "id": "-u9Sg_YTx2fe"
      }
    },
    {
      "cell_type": "markdown",
      "source": [
        "**Assumption #1.** Your **dependent variable** should be measured at the **continuous** level (i.e., they are either interval or ratio variables).\n",
        "\n",
        "> The dependent variable is the *mileage* of the car.\n",
        "\n",
        "**Assumption #2.** Your independent variable should consist of at least two categorical, \"related groups\" or \"matched pairs\"\n",
        "\n",
        "> The independent factors are the *oils* of the cars.\n"
      ],
      "metadata": {
        "id": "nNJHqCgVZeCG"
      }
    },
    {
      "cell_type": "markdown",
      "source": [
        "### **Assumption 3: Outliers**"
      ],
      "metadata": {
        "id": "JMTgs72WyA3R"
      }
    },
    {
      "cell_type": "markdown",
      "source": [
        "There should be no significant outliers in the groups of your independent variable in terms of the dependent variable."
      ],
      "metadata": {
        "id": "_srSfmp3ZqSZ"
      }
    },
    {
      "cell_type": "markdown",
      "source": [
        "####**Outlier Detection Through Box-plot**\n",
        "\n",
        "To visually inspect outliers through box-plots, observe the points beyond the \"whiskers\" of the boxplot."
      ],
      "metadata": {
        "id": "SK6h3_fZxpCJ"
      }
    },
    {
      "cell_type": "code",
      "source": [
        "sns.boxplot(x = 'Oil', y = 'Mileage', data = data)"
      ],
      "metadata": {
        "colab": {
          "base_uri": "https://localhost:8080/",
          "height": 466
        },
        "id": "eF_kqlqZbJ46",
        "outputId": "a8573e64-6e2e-48e4-ef75-698881b7f281"
      },
      "execution_count": 26,
      "outputs": [
        {
          "output_type": "execute_result",
          "data": {
            "text/plain": [
              "<Axes: xlabel='Oil', ylabel='Mileage'>"
            ]
          },
          "metadata": {},
          "execution_count": 26
        },
        {
          "output_type": "display_data",
          "data": {
            "text/plain": [
              "<Figure size 640x480 with 1 Axes>"
            ],
            "image/png": "[encoded data removed]"
          },
          "metadata": {}
        }
      ]
    },
    {
      "cell_type": "markdown",
      "source": [
        "####**Outlier Detection Through z-score**\n",
        "\n",
        "To identify outliers using the z-score, we can set a threshold value by 3. Data points with a z-score greater than 3 or less than -3 can be considered an *extreme* outlier."
      ],
      "metadata": {
        "id": "cnV7_a0VxdlH"
      }
    },
    {
      "cell_type": "code",
      "source": [
        "from scipy.stats import zscore\n",
        "\n",
        "def identify_outliers(group):\n",
        "    z_scores = zscore(group['Mileage'])\n",
        "    outliers = (z_scores > 3) | (z_scores < -3)\n",
        "    return group[outliers]\n",
        "\n",
        "outliers = data.groupby(['Oil']).apply(identify_outliers)\n",
        "\n",
        "# display the styled df\n",
        "outliers.style"
      ],
      "metadata": {
        "colab": {
          "base_uri": "https://localhost:8080/",
          "height": 81
        },
        "id": "hL5roXDSxx5P",
        "outputId": "d99557bc-14ff-4868-fe6b-d909d87ead02"
      },
      "execution_count": 29,
      "outputs": [
        {
          "output_type": "execute_result",
          "data": {
            "text/plain": [
              "<pandas.io.formats.style.Styler at 0x7f01e8393eb0>"
            ],
            "text/html": [
              "<style type=\"text/css\">\n",
              "</style>\n",
              "<table id=\"T_4f038\" class=\"dataframe\">\n",
              "  <thead>\n",
              "    <tr>\n",
              "      <th class=\"blank\" >&nbsp;</th>\n",
              "      <th class=\"blank level0\" >&nbsp;</th>\n",
              "      <th id=\"T_4f038_level0_col0\" class=\"col_heading level0 col0\" >Cars</th>\n",
              "      <th id=\"T_4f038_level0_col1\" class=\"col_heading level0 col1\" >Oil</th>\n",
              "      <th id=\"T_4f038_level0_col2\" class=\"col_heading level0 col2\" >Mileage</th>\n",
              "    </tr>\n",
              "    <tr>\n",
              "      <th class=\"index_name level0\" >Oil</th>\n",
              "      <th class=\"index_name level1\" >&nbsp;</th>\n",
              "      <th class=\"blank col0\" >&nbsp;</th>\n",
              "      <th class=\"blank col1\" >&nbsp;</th>\n",
              "      <th class=\"blank col2\" >&nbsp;</th>\n",
              "    </tr>\n",
              "  </thead>\n",
              "  <tbody>\n",
              "  </tbody>\n",
              "</table>\n"
            ]
          },
          "metadata": {},
          "execution_count": 29
        }
      ]
    },
    {
      "cell_type": "markdown",
      "source": [
        "\n",
        "> ***Remark.*** There were no extreme outliers."
      ],
      "metadata": {
        "id": "FHpOG19EzFdn"
      }
    },
    {
      "cell_type": "markdown",
      "source": [
        "### **Assumption 4: Normality**\n"
      ],
      "metadata": {
        "id": "BN4oJCn2yFww"
      }
    },
    {
      "cell_type": "code",
      "source": [
        "result_norm = pg.normality(data=data, dv='Mileage', group='Oil')\n",
        "result_norm.style"
      ],
      "metadata": {
        "colab": {
          "base_uri": "https://localhost:8080/",
          "height": 206
        },
        "id": "JaSb3SRv9bJr",
        "outputId": "b1fdc077-ad1b-4897-9b57-f5c104d3ba38"
      },
      "execution_count": 33,
      "outputs": [
        {
          "output_type": "execute_result",
          "data": {
            "text/plain": [
              "<pandas.io.formats.style.Styler at 0x7f01e8ef3550>"
            ],
            "text/html": [
              "<style type=\"text/css\">\n",
              "</style>\n",
              "<table id=\"T_09935\" class=\"dataframe\">\n",
              "  <thead>\n",
              "    <tr>\n",
              "      <th class=\"blank level0\" >&nbsp;</th>\n",
              "      <th id=\"T_09935_level0_col0\" class=\"col_heading level0 col0\" >W</th>\n",
              "      <th id=\"T_09935_level0_col1\" class=\"col_heading level0 col1\" >pval</th>\n",
              "      <th id=\"T_09935_level0_col2\" class=\"col_heading level0 col2\" >normal</th>\n",
              "    </tr>\n",
              "    <tr>\n",
              "      <th class=\"index_name level0\" >Oil</th>\n",
              "      <th class=\"blank col0\" >&nbsp;</th>\n",
              "      <th class=\"blank col1\" >&nbsp;</th>\n",
              "      <th class=\"blank col2\" >&nbsp;</th>\n",
              "    </tr>\n",
              "  </thead>\n",
              "  <tbody>\n",
              "    <tr>\n",
              "      <th id=\"T_09935_level0_row0\" class=\"row_heading level0 row0\" >1</th>\n",
              "      <td id=\"T_09935_row0_col0\" class=\"data row0 col0\" >0.859908</td>\n",
              "      <td id=\"T_09935_row0_col1\" class=\"data row0 col1\" >0.227920</td>\n",
              "      <td id=\"T_09935_row0_col2\" class=\"data row0 col2\" >True</td>\n",
              "    </tr>\n",
              "    <tr>\n",
              "      <th id=\"T_09935_level0_row1\" class=\"row_heading level0 row1\" >2</th>\n",
              "      <td id=\"T_09935_row1_col0\" class=\"data row1 col0\" >0.814320</td>\n",
              "      <td id=\"T_09935_row1_col1\" class=\"data row1 col1\" >0.105474</td>\n",
              "      <td id=\"T_09935_row1_col2\" class=\"data row1 col2\" >True</td>\n",
              "    </tr>\n",
              "    <tr>\n",
              "      <th id=\"T_09935_level0_row2\" class=\"row_heading level0 row2\" >3</th>\n",
              "      <td id=\"T_09935_row2_col0\" class=\"data row2 col0\" >0.932799</td>\n",
              "      <td id=\"T_09935_row2_col1\" class=\"data row2 col1\" >0.615581</td>\n",
              "      <td id=\"T_09935_row2_col2\" class=\"data row2 col2\" >True</td>\n",
              "    </tr>\n",
              "    <tr>\n",
              "      <th id=\"T_09935_level0_row3\" class=\"row_heading level0 row3\" >4</th>\n",
              "      <td id=\"T_09935_row3_col0\" class=\"data row3 col0\" >0.833279</td>\n",
              "      <td id=\"T_09935_row3_col1\" class=\"data row3 col1\" >0.147184</td>\n",
              "      <td id=\"T_09935_row3_col2\" class=\"data row3 col2\" >True</td>\n",
              "    </tr>\n",
              "  </tbody>\n",
              "</table>\n"
            ]
          },
          "metadata": {},
          "execution_count": 33
        }
      ]
    },
    {
      "cell_type": "markdown",
      "source": [
        "\n",
        "> The data was normally distributed (p \\> 0.05), as assessed by Shapiro-Wilk's test of normality."
      ],
      "metadata": {
        "id": "2dAN1EAj_qs-"
      }
    },
    {
      "cell_type": "markdown",
      "source": [
        "### **Assumption 5: Sphericity**\n"
      ],
      "metadata": {
        "id": "BHKz0mDryNGK"
      }
    },
    {
      "cell_type": "code",
      "source": [
        "# mauchly’s test of sphericity\n",
        "r_mt = pg.sphericity(data=data, dv='Mileage', subject='Cars', within=['Oil'])\n",
        "df = pd.DataFrame(r_mt).T\n",
        "df.style"
      ],
      "metadata": {
        "colab": {
          "base_uri": "https://localhost:8080/",
          "height": 81
        },
        "id": "xCoAPFVOz5Ow",
        "outputId": "915f3f7e-b6fd-46d0-e06a-bb63f47ef174"
      },
      "execution_count": 50,
      "outputs": [
        {
          "output_type": "execute_result",
          "data": {
            "text/plain": [
              "<pandas.io.formats.style.Styler at 0x7f01e8da6290>"
            ],
            "text/html": [
              "<style type=\"text/css\">\n",
              "</style>\n",
              "<table id=\"T_f417b\" class=\"dataframe\">\n",
              "  <thead>\n",
              "    <tr>\n",
              "      <th class=\"blank level0\" >&nbsp;</th>\n",
              "      <th id=\"T_f417b_level0_col0\" class=\"col_heading level0 col0\" >0</th>\n",
              "      <th id=\"T_f417b_level0_col1\" class=\"col_heading level0 col1\" >1</th>\n",
              "      <th id=\"T_f417b_level0_col2\" class=\"col_heading level0 col2\" >2</th>\n",
              "      <th id=\"T_f417b_level0_col3\" class=\"col_heading level0 col3\" >3</th>\n",
              "      <th id=\"T_f417b_level0_col4\" class=\"col_heading level0 col4\" >4</th>\n",
              "    </tr>\n",
              "  </thead>\n",
              "  <tbody>\n",
              "    <tr>\n",
              "      <th id=\"T_f417b_level0_row0\" class=\"row_heading level0 row0\" >0</th>\n",
              "      <td id=\"T_f417b_row0_col0\" class=\"data row0 col0\" >True</td>\n",
              "      <td id=\"T_f417b_row0_col1\" class=\"data row0 col1\" >0.287410</td>\n",
              "      <td id=\"T_f417b_row0_col2\" class=\"data row0 col2\" >3.394192</td>\n",
              "      <td id=\"T_f417b_row0_col3\" class=\"data row0 col3\" >5</td>\n",
              "      <td id=\"T_f417b_row0_col4\" class=\"data row0 col4\" >0.658963</td>\n",
              "    </tr>\n",
              "  </tbody>\n",
              "</table>\n"
            ]
          },
          "metadata": {},
          "execution_count": 50
        }
      ]
    },
    {
      "cell_type": "markdown",
      "source": [
        "> From the output above, it can be seen that the p-value (0.659) is good, and the test therefore indicates that there is no violation of sphericity."
      ],
      "metadata": {
        "id": "839eaz37meJ2"
      }
    },
    {
      "cell_type": "markdown",
      "source": [
        "## **ANOVA Testing and Computation**"
      ],
      "metadata": {
        "id": "-RdBBpQUchSv"
      }
    },
    {
      "cell_type": "code",
      "source": [
        "print(AnovaRM(data = data, depvar = 'Mileage', subject='Cars', within=['Oil']).fit())"
      ],
      "metadata": {
        "colab": {
          "base_uri": "https://localhost:8080/"
        },
        "id": "x64vfUi9nZ1V",
        "outputId": "c77b4079-4faf-4143-91d9-77374f24d73d"
      },
      "execution_count": 57,
      "outputs": [
        {
          "output_type": "stream",
          "name": "stdout",
          "text": [
            "              Anova\n",
            "=================================\n",
            "    F Value Num DF  Den DF Pr > F\n",
            "---------------------------------\n",
            "Oil  0.5679 3.0000 12.0000 0.6466\n",
            "=================================\n",
            "\n"
          ]
        }
      ]
    },
    {
      "cell_type": "markdown",
      "source": [
        "## **Reporting**"
      ],
      "metadata": {
        "id": "9CP3cgBrcl7q"
      }
    },
    {
      "cell_type": "markdown",
      "source": [
        "A one-way repeated measures ANOVA was conducted to determine if there is a difference in mileage of cars between four engine oils. There was a significant effect of diet on mileage at the p < .05 level for the four engine oils [F(3, 12) = 0.568, p = 0.647]."
      ],
      "metadata": {
        "id": "-WT5QfE34heH"
      }
    }
  ]
}